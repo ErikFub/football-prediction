{
 "cells": [
  {
   "cell_type": "code",
   "execution_count": 1,
   "metadata": {
    "collapsed": false,
    "jupyter": {
     "outputs_hidden": false
    },
    "pycharm": {
     "name": "#%%\n"
    }
   },
   "outputs": [],
   "source": [
    "#import sys\n",
    "#sys.path.insert(0, '../')\n",
    "import math\n",
    "import pandas as pd\n",
    "import os\n",
    "import matplotlib.pyplot as plt\n",
    "from src.data.access import DbAccessLayer, ExternalDataAccessLayer\n",
    "# from src.data.maintenance import RawData, Database\n",
    "import warnings\n",
    "from src.selection.evaluation import create_train_test\n",
    "from tqdm import tqdm\n",
    "warnings.filterwarnings('ignore')\n",
    "\n",
    "%load_ext autoreload\n",
    "%autoreload 2"
   ]
  },
  {
   "cell_type": "code",
   "execution_count": null,
   "outputs": [],
   "source": [
    "from src.data.maintenance import Database, RawData\n",
    "from src.data.access import RawDataAccessLayer\n",
    "#RawData().prepare()\n",
    "#Database().create_matches_table()"
   ],
   "metadata": {
    "collapsed": false,
    "pycharm": {
     "name": "#%%\n"
    }
   }
  },
  {
   "cell_type": "code",
   "execution_count": 16,
   "metadata": {
    "collapsed": false,
    "jupyter": {
     "outputs_hidden": false
    },
    "pycharm": {
     "name": "#%%\n"
    }
   },
   "outputs": [],
   "source": [
    "from src.features.generation import FeaturesLabelsGenerator\n",
    "generator = FeaturesLabelsGenerator()"
   ]
  },
  {
   "cell_type": "code",
   "execution_count": 22,
   "outputs": [
    {
     "name": "stderr",
     "output_type": "stream",
     "text": [
      "100%|██████████| 214/214 [00:18<00:00, 11.51it/s]\n"
     ]
    }
   ],
   "source": [
    "gfh = generator.get_goal_form()"
   ],
   "metadata": {
    "collapsed": false,
    "pycharm": {
     "name": "#%%\n"
    }
   }
  },
  {
   "cell_type": "code",
   "execution_count": 7,
   "outputs": [
    {
     "name": "stderr",
     "output_type": "stream",
     "text": [
      "Adding before outcomes: 100%|██████████| 214/214 [00:59<00:00,  3.62it/s]\n"
     ]
    }
   ],
   "source": [
    "generator.get_form(5, site_specific=True)"
   ],
   "metadata": {
    "collapsed": false,
    "pycharm": {
     "name": "#%%\n"
    }
   }
  },
  {
   "cell_type": "code",
   "execution_count": 52,
   "outputs": [],
   "source": [
    "generator.get_bookmaker_pred()"
   ],
   "metadata": {
    "collapsed": false,
    "pycharm": {
     "name": "#%%\n"
    }
   }
  },
  {
   "cell_type": "code",
   "execution_count": 48,
   "metadata": {
    "collapsed": false,
    "jupyter": {
     "outputs_hidden": false
    },
    "pycharm": {
     "name": "#%%\n"
    }
   },
   "outputs": [
    {
     "name": "stderr",
     "output_type": "stream",
     "text": [
      "Adding before outcomes: 100%|██████████| 211/211 [02:33<00:00,  1.37it/s]\n"
     ]
    },
    {
     "data": {
      "text/plain": "       match_id league_id season  matchday                 date      time  \\\n0         55436       GB1  06/07         1  2006-08-19 00:00:00  12:45 PM   \n1         55437       GB1  06/07         1  2006-08-19 00:00:00   3:00 PM   \n2         55438       GB1  06/07         1  2006-08-19 00:00:00   3:00 PM   \n3         55439       GB1  06/07         1  2006-08-20 00:00:00   1:30 PM   \n4         55440       GB1  06/07         1  2006-08-19 00:00:00   3:00 PM   \n...         ...       ...    ...       ...                  ...       ...   \n33215   3615128       IT1  21/22        25  2022-02-14 00:00:00   7:45 PM   \n33216   3718405       IT1  21/22        19  2021-12-22 00:00:00   5:30 PM   \n33217   3718646       IT1  21/22        19  2021-12-22 00:00:00   5:30 PM   \n33218   3719028       IT1  21/22        19  2021-12-22 00:00:00   7:45 PM   \n33219   3751557       IT1  21/22        19  2022-04-20 00:00:00   5:45 PM   \n\n       home_team_id  away_team_id  table_position_home  table_position_away  \\\n0               350            31                   17                    3   \n1                11           405                    4                   11   \n2                29          1010                    7                   20   \n3               985           931                    1                   16   \n4               379           358                   15                   19   \n...             ...           ...                  ...                  ...   \n33215          3522           430                   15                    8   \n33216            12          1038                    6                   15   \n33217           276           430                   13                    7   \n33218          6195          3522                    2                   17   \n33219           410           380                   14                   20   \n\n       ...  away_before_15  home_form  away_form bookmaker_pred  home_wins  \\\n0      ...             NaN        0.0        0.0              A          0   \n1      ...             NaN        0.0        0.0              H          0   \n2      ...             NaN        0.0        0.0              H          0   \n3      ...             NaN        0.0        0.0              H          0   \n4      ...             NaN        0.0        0.0              H          0   \n...    ...             ...        ...        ...            ...        ...   \n33215  ...            -1.0      -31.0      -31.0              A          4   \n33216  ...            -1.0        5.0        5.0              H          6   \n33217  ...             1.0       -7.0       -7.0              A          5   \n33218  ...            -1.0       49.0       49.0              H          8   \n33219  ...             0.0       26.0       26.0              H          6   \n\n      home_draws home_losses away_wins away_draws  away_losses  \n0              0           0         0          0            0  \n1              0           0         0          0            0  \n2              0           0         0          0            0  \n3              0           0         0          0            0  \n4              0           0         0          0            0  \n...          ...         ...       ...        ...          ...  \n33215          2           9         7          2            6  \n33216          6           3         4          1           10  \n33217          6           4         8          2            5  \n33218          4           3         4          1           10  \n33219          5           4         2          7            6  \n\n[33220 rows x 62 columns]",
      "text/html": "<div>\n<style scoped>\n    .dataframe tbody tr th:only-of-type {\n        vertical-align: middle;\n    }\n\n    .dataframe tbody tr th {\n        vertical-align: top;\n    }\n\n    .dataframe thead th {\n        text-align: right;\n    }\n</style>\n<table border=\"1\" class=\"dataframe\">\n  <thead>\n    <tr style=\"text-align: right;\">\n      <th></th>\n      <th>match_id</th>\n      <th>league_id</th>\n      <th>season</th>\n      <th>matchday</th>\n      <th>date</th>\n      <th>time</th>\n      <th>home_team_id</th>\n      <th>away_team_id</th>\n      <th>table_position_home</th>\n      <th>table_position_away</th>\n      <th>...</th>\n      <th>away_before_15</th>\n      <th>home_form</th>\n      <th>away_form</th>\n      <th>bookmaker_pred</th>\n      <th>home_wins</th>\n      <th>home_draws</th>\n      <th>home_losses</th>\n      <th>away_wins</th>\n      <th>away_draws</th>\n      <th>away_losses</th>\n    </tr>\n  </thead>\n  <tbody>\n    <tr>\n      <th>0</th>\n      <td>55436</td>\n      <td>GB1</td>\n      <td>06/07</td>\n      <td>1</td>\n      <td>2006-08-19 00:00:00</td>\n      <td>12:45 PM</td>\n      <td>350</td>\n      <td>31</td>\n      <td>17</td>\n      <td>3</td>\n      <td>...</td>\n      <td>NaN</td>\n      <td>0.0</td>\n      <td>0.0</td>\n      <td>A</td>\n      <td>0</td>\n      <td>0</td>\n      <td>0</td>\n      <td>0</td>\n      <td>0</td>\n      <td>0</td>\n    </tr>\n    <tr>\n      <th>1</th>\n      <td>55437</td>\n      <td>GB1</td>\n      <td>06/07</td>\n      <td>1</td>\n      <td>2006-08-19 00:00:00</td>\n      <td>3:00 PM</td>\n      <td>11</td>\n      <td>405</td>\n      <td>4</td>\n      <td>11</td>\n      <td>...</td>\n      <td>NaN</td>\n      <td>0.0</td>\n      <td>0.0</td>\n      <td>H</td>\n      <td>0</td>\n      <td>0</td>\n      <td>0</td>\n      <td>0</td>\n      <td>0</td>\n      <td>0</td>\n    </tr>\n    <tr>\n      <th>2</th>\n      <td>55438</td>\n      <td>GB1</td>\n      <td>06/07</td>\n      <td>1</td>\n      <td>2006-08-19 00:00:00</td>\n      <td>3:00 PM</td>\n      <td>29</td>\n      <td>1010</td>\n      <td>7</td>\n      <td>20</td>\n      <td>...</td>\n      <td>NaN</td>\n      <td>0.0</td>\n      <td>0.0</td>\n      <td>H</td>\n      <td>0</td>\n      <td>0</td>\n      <td>0</td>\n      <td>0</td>\n      <td>0</td>\n      <td>0</td>\n    </tr>\n    <tr>\n      <th>3</th>\n      <td>55439</td>\n      <td>GB1</td>\n      <td>06/07</td>\n      <td>1</td>\n      <td>2006-08-20 00:00:00</td>\n      <td>1:30 PM</td>\n      <td>985</td>\n      <td>931</td>\n      <td>1</td>\n      <td>16</td>\n      <td>...</td>\n      <td>NaN</td>\n      <td>0.0</td>\n      <td>0.0</td>\n      <td>H</td>\n      <td>0</td>\n      <td>0</td>\n      <td>0</td>\n      <td>0</td>\n      <td>0</td>\n      <td>0</td>\n    </tr>\n    <tr>\n      <th>4</th>\n      <td>55440</td>\n      <td>GB1</td>\n      <td>06/07</td>\n      <td>1</td>\n      <td>2006-08-19 00:00:00</td>\n      <td>3:00 PM</td>\n      <td>379</td>\n      <td>358</td>\n      <td>15</td>\n      <td>19</td>\n      <td>...</td>\n      <td>NaN</td>\n      <td>0.0</td>\n      <td>0.0</td>\n      <td>H</td>\n      <td>0</td>\n      <td>0</td>\n      <td>0</td>\n      <td>0</td>\n      <td>0</td>\n      <td>0</td>\n    </tr>\n    <tr>\n      <th>...</th>\n      <td>...</td>\n      <td>...</td>\n      <td>...</td>\n      <td>...</td>\n      <td>...</td>\n      <td>...</td>\n      <td>...</td>\n      <td>...</td>\n      <td>...</td>\n      <td>...</td>\n      <td>...</td>\n      <td>...</td>\n      <td>...</td>\n      <td>...</td>\n      <td>...</td>\n      <td>...</td>\n      <td>...</td>\n      <td>...</td>\n      <td>...</td>\n      <td>...</td>\n      <td>...</td>\n    </tr>\n    <tr>\n      <th>33215</th>\n      <td>3615128</td>\n      <td>IT1</td>\n      <td>21/22</td>\n      <td>25</td>\n      <td>2022-02-14 00:00:00</td>\n      <td>7:45 PM</td>\n      <td>3522</td>\n      <td>430</td>\n      <td>15</td>\n      <td>8</td>\n      <td>...</td>\n      <td>-1.0</td>\n      <td>-31.0</td>\n      <td>-31.0</td>\n      <td>A</td>\n      <td>4</td>\n      <td>2</td>\n      <td>9</td>\n      <td>7</td>\n      <td>2</td>\n      <td>6</td>\n    </tr>\n    <tr>\n      <th>33216</th>\n      <td>3718405</td>\n      <td>IT1</td>\n      <td>21/22</td>\n      <td>19</td>\n      <td>2021-12-22 00:00:00</td>\n      <td>5:30 PM</td>\n      <td>12</td>\n      <td>1038</td>\n      <td>6</td>\n      <td>15</td>\n      <td>...</td>\n      <td>-1.0</td>\n      <td>5.0</td>\n      <td>5.0</td>\n      <td>H</td>\n      <td>6</td>\n      <td>6</td>\n      <td>3</td>\n      <td>4</td>\n      <td>1</td>\n      <td>10</td>\n    </tr>\n    <tr>\n      <th>33217</th>\n      <td>3718646</td>\n      <td>IT1</td>\n      <td>21/22</td>\n      <td>19</td>\n      <td>2021-12-22 00:00:00</td>\n      <td>5:30 PM</td>\n      <td>276</td>\n      <td>430</td>\n      <td>13</td>\n      <td>7</td>\n      <td>...</td>\n      <td>1.0</td>\n      <td>-7.0</td>\n      <td>-7.0</td>\n      <td>A</td>\n      <td>5</td>\n      <td>6</td>\n      <td>4</td>\n      <td>8</td>\n      <td>2</td>\n      <td>5</td>\n    </tr>\n    <tr>\n      <th>33218</th>\n      <td>3719028</td>\n      <td>IT1</td>\n      <td>21/22</td>\n      <td>19</td>\n      <td>2021-12-22 00:00:00</td>\n      <td>7:45 PM</td>\n      <td>6195</td>\n      <td>3522</td>\n      <td>2</td>\n      <td>17</td>\n      <td>...</td>\n      <td>-1.0</td>\n      <td>49.0</td>\n      <td>49.0</td>\n      <td>H</td>\n      <td>8</td>\n      <td>4</td>\n      <td>3</td>\n      <td>4</td>\n      <td>1</td>\n      <td>10</td>\n    </tr>\n    <tr>\n      <th>33219</th>\n      <td>3751557</td>\n      <td>IT1</td>\n      <td>21/22</td>\n      <td>19</td>\n      <td>2022-04-20 00:00:00</td>\n      <td>5:45 PM</td>\n      <td>410</td>\n      <td>380</td>\n      <td>14</td>\n      <td>20</td>\n      <td>...</td>\n      <td>0.0</td>\n      <td>26.0</td>\n      <td>26.0</td>\n      <td>H</td>\n      <td>6</td>\n      <td>5</td>\n      <td>4</td>\n      <td>2</td>\n      <td>7</td>\n      <td>6</td>\n    </tr>\n  </tbody>\n</table>\n<p>33220 rows × 62 columns</p>\n</div>"
     },
     "execution_count": 48,
     "metadata": {},
     "output_type": "execute_result"
    }
   ],
   "source": [
    "from tqdm import tqdm\n",
    "import numpy as np\n",
    "\n",
    "\n",
    "def add_before_outcomes(df: pd.DataFrame, n_before: int):\n",
    "    \"\"\"Adds the n outcomes of the prior matches of the home and away team.\"\"\"\n",
    "    before_cols = [f'home_before_{i+1}' for i in range(n_before)] + [f'away_before_{i+1}' for i in range(n_before)]\n",
    "\n",
    "    # Create columns and set to NaN\n",
    "    for col in before_cols:\n",
    "        df[col] = np.NaN\n",
    "\n",
    "    def fill_before_outcomes(team_id: int):\n",
    "        \"\"\"Fills the before outcomes of a given team.\"\"\"\n",
    "        team_match_df = df[(df['home_team_id'] == team_id) | (df['away_team_id'] == team_id)]\n",
    "        if len(team_match_df) > 0:\n",
    "            team_match_df['team_role'] = team_match_df['home_team_id'].apply(lambda ht: 'H' if ht == team_id else 'A')\n",
    "            team_match_df['outcome'] = team_match_df.apply(\n",
    "                lambda r: 1 if r['result'] == r['team_role'] else 0 if r['result'] == 'D' else -1, axis=1)\n",
    "            for i in range(n_before):\n",
    "                n = i+1\n",
    "                team_match_df[f'before_{n}'] = team_match_df['outcome'].shift(n)\n",
    "\n",
    "            for i, row in team_match_df.iterrows():\n",
    "                for col in before_cols:\n",
    "                    row_role = 'home' if row['team_role'] == 'H' else 'away'\n",
    "                    col_role = col[:4]\n",
    "                    if row_role == col_role:\n",
    "                        df.loc[i, col] = row[col[5:]]\n",
    "\n",
    "    all_teams = set(df['home_team_id'].unique().tolist() + df['away_team_id'].unique().tolist())\n",
    "    for team in tqdm(all_teams, desc=\"Adding before outcomes\"):  # for each team, fill the outcomes\n",
    "        fill_before_outcomes(team)\n",
    "    return df\n",
    "\n",
    "\n",
    "def add_form(df):\n",
    "    \"\"\"Add the form as a weighted average of the before outcomes where recent outcomes have more weight.\"\"\"\n",
    "    all_cols = df.columns.tolist()\n",
    "    before_cols = [col for col in all_cols if col[5:11] == 'before']\n",
    "    home_before_cols = [col for col in before_cols if col[:4] == 'home']\n",
    "    away_before_cols = [col for col in before_cols if col[:4] == 'home']\n",
    "    df['home_form'] = (df[home_before_cols] * [len(home_before_cols)-i for i in range(len(home_before_cols))]).sum(axis=1)\n",
    "    df['away_form'] = (df[away_before_cols] * [len(away_before_cols) - i for i in range(len(away_before_cols))]).sum(axis=1)\n",
    "    return df\n",
    "\n",
    "\n",
    "def get_bookmaker_pred(df: pd.DataFrame) -> pd.Series:\n",
    "    \"\"\"Gets the prediction the bookmaker would have made. Configured for Bet365 as bookmaker.\"\"\"\n",
    "    bookmaker_pred = df[['b365_H', 'b365_D', 'b365_A']].idxmin(axis=1).str[-1:]\n",
    "    return bookmaker_pred\n",
    "\n",
    "\n",
    "def get_outcome_counts(df_in: pd.DataFrame) -> pd.DataFrame:\n",
    "    \"\"\"Counts the number of wins, draws, and losses per home team in the prior n matches where n is the number of\n",
    "    columns that capture prior results (these columns must already exist in DataFrame.\"\"\"\n",
    "    df = df_in.copy()\n",
    "    sites = ['home', 'away']\n",
    "    outcome_df = pd.DataFrame()\n",
    "    for site in sites:\n",
    "        before_cols = [col for col in df.columns if col[:11] == f'{site}_before']\n",
    "        wins = (df[before_cols] == 1).sum(axis=1)\n",
    "        draws = (df[before_cols] == 0).sum(axis=1)\n",
    "        losses = (df[before_cols] == -1).sum(axis=1)\n",
    "        outcome_df[f\"{site}_wins\"] = wins\n",
    "        outcome_df[f\"{site}_draws\"] = draws\n",
    "        outcome_df[f\"{site}_losses\"] = losses\n",
    "    return outcome_df\n",
    "\n",
    "db_access = DbAccessLayer()\n",
    "match_df = db_access.load_table('Match')\n",
    "odds_df = db_access.load_table('Odds')\n",
    "odds_df.drop_duplicates(subset=['match_id'], inplace=True)\n",
    "match_df = match_df.merge(odds_df.drop(columns=['id']), on='match_id')\n",
    "match_df = add_before_outcomes(match_df, 15)\n",
    "match_df = add_form(match_df)\n",
    "match_df['bookmaker_pred'] = get_bookmaker_pred(match_df)\n",
    "#match_df['rel_attendance'] = get_relative_attendance(match_df)\n",
    "#match_df['attendance_coef'] = get_attendance_coef(match_df)\n",
    "match_df = pd.concat([match_df, get_outcome_counts(match_df)], axis=1)\n",
    "match_df"
   ]
  },
  {
   "cell_type": "code",
   "execution_count": 49,
   "metadata": {
    "collapsed": false,
    "jupyter": {
     "outputs_hidden": false
    },
    "pycharm": {
     "name": "#%%\n"
    }
   },
   "outputs": [
    {
     "data": {
      "text/plain": "24348"
     },
     "execution_count": 49,
     "metadata": {},
     "output_type": "execute_result"
    }
   ],
   "source": [
    "sites = ['home', 'away']\n",
    "#features = [f'home_before_{i+1}' for i in range(5)] + [f'away_before_{i+1}' for i in range(5)] + ['home_form', 'away_form'] + [f\"{s}_losses\" for s in sites] + [f\"{s}_draws\" for s in sites] + [f\"{s}_wins\" for s in sites] + ['table_position_home'] + ['table_position_away'] + ['rel_attendance'] + ['attendance_coef']\n",
    "\n",
    "features = ['home_form', 'away_form'] + [f\"{s}_losses\" for s in sites] + [f\"{s}_draws\" for s in sites] + [f\"{s}_wins\" for s in sites] + ['table_position_home'] + ['table_position_away'] #+ ['rel_attendance']# + ['attendance_coef']\n",
    "\n",
    "X_train, X_test, y_train, y_test = create_train_test(df_in=match_df, split_date='2022-01-01', start_date='2010-07-01', features=features)#, leagues=['L1'])\n",
    "len(X_train)"
   ]
  },
  {
   "cell_type": "code",
   "execution_count": 23,
   "outputs": [
    {
     "name": "stdout",
     "output_type": "stream",
     "text": [
      "Warning: 63 rows dropped because of NA values.\n"
     ]
    },
    {
     "data": {
      "text/plain": "24345"
     },
     "execution_count": 23,
     "metadata": {},
     "output_type": "execute_result"
    }
   ],
   "source": [
    "db_access = DbAccessLayer()\n",
    "X, y = db_access.get_features_labels()\n",
    "match_df = X.merge(y, on='id')\n",
    "match_df['date'] = X.index\n",
    "bookmaker_pred = db_access.load_table('Features')['bookmaker_pred'].astype(str)\n",
    "\n",
    "features= [\n",
    "    'form_home',\n",
    "    'form_away',\n",
    "    'site_form_home',\n",
    "    'site_form_away',\n",
    "    'goals_form_home',\n",
    "    'goals_form_away'\n",
    "]\n",
    "\n",
    "X_train, X_test, y_train, y_test = create_train_test(df_in=match_df, split_date='2022-01-01', start_date='2010-07-01', features=features)#, leagues=['L1'])\n",
    "len(X_train)"
   ],
   "metadata": {
    "collapsed": false,
    "pycharm": {
     "name": "#%%\n"
    }
   }
  },
  {
   "cell_type": "code",
   "execution_count": 24,
   "outputs": [],
   "source": [
    "from sklearn.linear_model import LogisticRegression\n",
    "from sklearn.ensemble import RandomForestClassifier, GradientBoostingClassifier\n",
    "from sklearn.svm import SVC\n",
    "from sklearn.neighbors import KNeighborsClassifier\n",
    "from sklearn.naive_bayes import GaussianNB\n",
    "from xgboost import XGBClassifier"
   ],
   "metadata": {
    "collapsed": false,
    "pycharm": {
     "name": "#%%\n"
    }
   }
  },
  {
   "cell_type": "code",
   "execution_count": 25,
   "metadata": {
    "collapsed": false,
    "jupyter": {
     "outputs_hidden": false
    },
    "pycharm": {
     "name": "#%%\n"
    }
   },
   "outputs": [
    {
     "name": "stdout",
     "output_type": "stream",
     "text": [
      "Accuracy: 0.45\n"
     ]
    },
    {
     "data": {
      "text/plain": "array([[132,  53, 166],\n       [ 85,  45, 140],\n       [ 85,  65, 304]], dtype=int64)"
     },
     "execution_count": 25,
     "metadata": {},
     "output_type": "execute_result"
    }
   ],
   "source": [
    "from sklearn.metrics import accuracy_score, confusion_matrix\n",
    "model = RandomForestClassifier(n_estimators=500)\n",
    "model.fit(X_train, y_train)\n",
    "y_pred = model.predict(X_test)\n",
    "print(f\"Accuracy: {round(accuracy_score(y_test, y_pred), 2)}\")\n",
    "confusion_matrix(y_test, y_pred)"
   ]
  },
  {
   "cell_type": "code",
   "execution_count": 26,
   "outputs": [
    {
     "data": {
      "text/plain": "goals_form_away    0.223011\ngoals_form_home    0.203506\nsite_form_away     0.163385\nsite_form_home     0.148368\nform_away          0.133577\nform_home          0.128152\nName: importance, dtype: float64"
     },
     "execution_count": 26,
     "metadata": {},
     "output_type": "execute_result"
    }
   ],
   "source": [
    "importances = pd.Series(index=X_train.columns, data=model.feature_importances_, name='importance').sort_values(ascending=False)\n",
    "importances"
   ],
   "metadata": {
    "collapsed": false,
    "pycharm": {
     "name": "#%%\n"
    }
   }
  },
  {
   "cell_type": "code",
   "execution_count": 27,
   "metadata": {
    "collapsed": false,
    "jupyter": {
     "outputs_hidden": false
    },
    "pycharm": {
     "name": "#%%\n"
    }
   },
   "outputs": [
    {
     "name": "stdout",
     "output_type": "stream",
     "text": [
      "Bookmaker Accuracy: 0.52\n"
     ]
    },
    {
     "data": {
      "text/plain": "array([[198,   0, 152,   1],\n       [102,   0, 168,   0],\n       [ 90,   0, 363,   1],\n       [  0,   0,   0,   0]], dtype=int64)"
     },
     "execution_count": 27,
     "metadata": {},
     "output_type": "execute_result"
    }
   ],
   "source": [
    "bookmaker_pred_test = bookmaker_pred.loc[y_test.index]\n",
    "print(f\"Bookmaker Accuracy: {round(accuracy_score(y_test, bookmaker_pred_test), 2)}\")\n",
    "confusion_matrix(y_test, bookmaker_pred_test)"
   ]
  },
  {
   "cell_type": "code",
   "execution_count": 28,
   "metadata": {
    "collapsed": false,
    "jupyter": {
     "outputs_hidden": false
    },
    "pycharm": {
     "name": "#%%\n"
    }
   },
   "outputs": [
    {
     "ename": "KeyError",
     "evalue": "'b365_H'",
     "output_type": "error",
     "traceback": [
      "\u001B[1;31m---------------------------------------------------------------------------\u001B[0m",
      "\u001B[1;31mKeyError\u001B[0m                                  Traceback (most recent call last)",
      "File \u001B[1;32m~\\AppData\\Local\\Programs\\Python\\Python310\\lib\\site-packages\\pandas\\core\\indexes\\base.py:3621\u001B[0m, in \u001B[0;36mIndex.get_loc\u001B[1;34m(self, key, method, tolerance)\u001B[0m\n\u001B[0;32m   3620\u001B[0m \u001B[38;5;28;01mtry\u001B[39;00m:\n\u001B[1;32m-> 3621\u001B[0m     \u001B[38;5;28;01mreturn\u001B[39;00m \u001B[38;5;28;43mself\u001B[39;49m\u001B[38;5;241;43m.\u001B[39;49m\u001B[43m_engine\u001B[49m\u001B[38;5;241;43m.\u001B[39;49m\u001B[43mget_loc\u001B[49m\u001B[43m(\u001B[49m\u001B[43mcasted_key\u001B[49m\u001B[43m)\u001B[49m\n\u001B[0;32m   3622\u001B[0m \u001B[38;5;28;01mexcept\u001B[39;00m \u001B[38;5;167;01mKeyError\u001B[39;00m \u001B[38;5;28;01mas\u001B[39;00m err:\n",
      "File \u001B[1;32m~\\AppData\\Local\\Programs\\Python\\Python310\\lib\\site-packages\\pandas\\_libs\\index.pyx:136\u001B[0m, in \u001B[0;36mpandas._libs.index.IndexEngine.get_loc\u001B[1;34m()\u001B[0m\n",
      "File \u001B[1;32m~\\AppData\\Local\\Programs\\Python\\Python310\\lib\\site-packages\\pandas\\_libs\\index.pyx:163\u001B[0m, in \u001B[0;36mpandas._libs.index.IndexEngine.get_loc\u001B[1;34m()\u001B[0m\n",
      "File \u001B[1;32mpandas\\_libs\\hashtable_class_helper.pxi:5198\u001B[0m, in \u001B[0;36mpandas._libs.hashtable.PyObjectHashTable.get_item\u001B[1;34m()\u001B[0m\n",
      "File \u001B[1;32mpandas\\_libs\\hashtable_class_helper.pxi:5206\u001B[0m, in \u001B[0;36mpandas._libs.hashtable.PyObjectHashTable.get_item\u001B[1;34m()\u001B[0m\n",
      "\u001B[1;31mKeyError\u001B[0m: 'b365_H'",
      "\nThe above exception was the direct cause of the following exception:\n",
      "\u001B[1;31mKeyError\u001B[0m                                  Traceback (most recent call last)",
      "Input \u001B[1;32mIn [28]\u001B[0m, in \u001B[0;36m<cell line: 11>\u001B[1;34m()\u001B[0m\n\u001B[0;32m      2\u001B[0m tested_models \u001B[38;5;241m=\u001B[39m [\n\u001B[0;32m      3\u001B[0m     RandomForestClassifier(n_estimators\u001B[38;5;241m=\u001B[39m\u001B[38;5;241m250\u001B[39m),\n\u001B[0;32m      4\u001B[0m     LogisticRegression(),\n\u001B[1;32m   (...)\u001B[0m\n\u001B[0;32m      8\u001B[0m     KNeighborsClassifier()\n\u001B[0;32m      9\u001B[0m ]\n\u001B[0;32m     10\u001B[0m bookmaker_pred_train \u001B[38;5;241m=\u001B[39m bookmaker_pred\u001B[38;5;241m.\u001B[39mloc[X_train\u001B[38;5;241m.\u001B[39mindex]\n\u001B[1;32m---> 11\u001B[0m \u001B[43mcompare_estimators\u001B[49m\u001B[43m(\u001B[49m\u001B[43mtested_models\u001B[49m\u001B[43m,\u001B[49m\u001B[43m \u001B[49m\u001B[43mX_train\u001B[49m\u001B[43m,\u001B[49m\u001B[43m \u001B[49m\u001B[43my_train\u001B[49m\u001B[43m,\u001B[49m\u001B[43m \u001B[49m\u001B[43mmatch_df\u001B[49m\u001B[43m,\u001B[49m\u001B[43m \u001B[49m\u001B[43mbookmaker_pred_train\u001B[49m\u001B[43m)\u001B[49m\n",
      "File \u001B[1;32m~\\Desktop\\football-prediction\\src\\selection\\evaluation.py:172\u001B[0m, in \u001B[0;36mcompare_estimators\u001B[1;34m(estimators, X, y, match_df, bookmaker_pred)\u001B[0m\n\u001B[0;32m    169\u001B[0m \u001B[38;5;124;03m\"\"\"Compares a set of estimators by comparing their accuracy and the hypothetic return of betting according to\u001B[39;00m\n\u001B[0;32m    170\u001B[0m \u001B[38;5;124;03mpredidctions.\"\"\"\u001B[39;00m\n\u001B[0;32m    171\u001B[0m compare_estimator_accuracy(estimators, X, y, bookmaker_pred)\n\u001B[1;32m--> 172\u001B[0m \u001B[43mcompare_betting_return\u001B[49m\u001B[43m(\u001B[49m\u001B[43mestimators\u001B[49m\u001B[43m,\u001B[49m\u001B[43m \u001B[49m\u001B[43mX\u001B[49m\u001B[43m,\u001B[49m\u001B[43m \u001B[49m\u001B[43my\u001B[49m\u001B[43m,\u001B[49m\u001B[43m \u001B[49m\u001B[43mmatch_df\u001B[49m\u001B[43m)\u001B[49m\n",
      "File \u001B[1;32m~\\Desktop\\football-prediction\\src\\selection\\evaluation.py:131\u001B[0m, in \u001B[0;36mcompare_betting_return\u001B[1;34m(estimators, X, y, match_df)\u001B[0m\n\u001B[0;32m    129\u001B[0m y_pred_proba_adj[\u001B[38;5;124m'\u001B[39m\u001B[38;5;124mPred\u001B[39m\u001B[38;5;124m'\u001B[39m] \u001B[38;5;241m=\u001B[39m y_pred  \u001B[38;5;66;03m# predicted outcome\u001B[39;00m\n\u001B[0;32m    130\u001B[0m y_pred_proba_adj[\u001B[38;5;124m'\u001B[39m\u001B[38;5;124mPredProba\u001B[39m\u001B[38;5;124m'\u001B[39m] \u001B[38;5;241m=\u001B[39m y_pred_proba_df\u001B[38;5;241m.\u001B[39mmax(axis\u001B[38;5;241m=\u001B[39m\u001B[38;5;241m1\u001B[39m)  \u001B[38;5;66;03m# predicted probability of most likely outcome\u001B[39;00m\n\u001B[1;32m--> 131\u001B[0m y_pred_proba_adj[\u001B[38;5;124m'\u001B[39m\u001B[38;5;124mBmProba\u001B[39m\u001B[38;5;124m'\u001B[39m] \u001B[38;5;241m=\u001B[39m \u001B[38;5;241m1\u001B[39m \u001B[38;5;241m/\u001B[39m \u001B[43mmatch_df\u001B[49m\u001B[38;5;241;43m.\u001B[39;49m\u001B[43mloc\u001B[49m\u001B[43m[\u001B[49m\u001B[43mtest_indices\u001B[49m\u001B[43m]\u001B[49m\u001B[38;5;241;43m.\u001B[39;49m\u001B[43mapply\u001B[49m\u001B[43m(\u001B[49m\n\u001B[0;32m    132\u001B[0m \u001B[43m    \u001B[49m\u001B[38;5;28;43;01mlambda\u001B[39;49;00m\u001B[43m \u001B[49m\u001B[43mr\u001B[49m\u001B[43m:\u001B[49m\u001B[43m \u001B[49m\u001B[43mr\u001B[49m\u001B[43m[\u001B[49m\u001B[38;5;124;43m'\u001B[39;49m\u001B[38;5;124;43mb365_H\u001B[39;49m\u001B[38;5;124;43m'\u001B[39;49m\u001B[43m]\u001B[49m\u001B[43m \u001B[49m\u001B[38;5;28;43;01mif\u001B[39;49;00m\u001B[43m \u001B[49m\u001B[43my_pred\u001B[49m\u001B[38;5;241;43m.\u001B[39;49m\u001B[43mloc\u001B[49m\u001B[43m[\u001B[49m\u001B[43mr\u001B[49m\u001B[38;5;241;43m.\u001B[39;49m\u001B[43mname\u001B[49m\u001B[43m]\u001B[49m\u001B[43m \u001B[49m\u001B[38;5;241;43m==\u001B[39;49m\u001B[43m \u001B[49m\u001B[38;5;124;43m'\u001B[39;49m\u001B[38;5;124;43mH\u001B[39;49m\u001B[38;5;124;43m'\u001B[39;49m\n\u001B[0;32m    133\u001B[0m \u001B[43m    \u001B[49m\u001B[38;5;28;43;01melse\u001B[39;49;00m\u001B[43m \u001B[49m\u001B[43mr\u001B[49m\u001B[43m[\u001B[49m\u001B[38;5;124;43m'\u001B[39;49m\u001B[38;5;124;43mb365_D\u001B[39;49m\u001B[38;5;124;43m'\u001B[39;49m\u001B[43m]\u001B[49m\u001B[43m \u001B[49m\u001B[38;5;28;43;01mif\u001B[39;49;00m\u001B[43m \u001B[49m\u001B[43my_pred\u001B[49m\u001B[38;5;241;43m.\u001B[39;49m\u001B[43mloc\u001B[49m\u001B[43m[\u001B[49m\u001B[43mr\u001B[49m\u001B[38;5;241;43m.\u001B[39;49m\u001B[43mname\u001B[49m\u001B[43m]\u001B[49m\u001B[43m \u001B[49m\u001B[38;5;241;43m==\u001B[39;49m\u001B[43m \u001B[49m\u001B[38;5;124;43m'\u001B[39;49m\u001B[38;5;124;43mD\u001B[39;49m\u001B[38;5;124;43m'\u001B[39;49m\n\u001B[0;32m    134\u001B[0m \u001B[43m    \u001B[49m\u001B[38;5;28;43;01melse\u001B[39;49;00m\u001B[43m \u001B[49m\u001B[43mr\u001B[49m\u001B[43m[\u001B[49m\u001B[38;5;124;43m'\u001B[39;49m\u001B[38;5;124;43mb365_A\u001B[39;49m\u001B[38;5;124;43m'\u001B[39;49m\u001B[43m]\u001B[49m\u001B[43m,\u001B[49m\u001B[43m \u001B[49m\u001B[43maxis\u001B[49m\u001B[38;5;241;43m=\u001B[39;49m\u001B[38;5;241;43m1\u001B[39;49m\u001B[43m)\u001B[49m  \u001B[38;5;66;03m# Bookmaker prediction\u001B[39;00m\n\u001B[0;32m    136\u001B[0m \u001B[38;5;66;03m# Get thresholds as 1% steps between the smallest and greatest difference between bookmaker and estimator proba\u001B[39;00m\n\u001B[0;32m    137\u001B[0m pred_proba_dif \u001B[38;5;241m=\u001B[39m y_pred_proba_adj[\u001B[38;5;124m'\u001B[39m\u001B[38;5;124mPredProba\u001B[39m\u001B[38;5;124m'\u001B[39m] \u001B[38;5;241m-\u001B[39m y_pred_proba_adj[\u001B[38;5;124m'\u001B[39m\u001B[38;5;124mBmProba\u001B[39m\u001B[38;5;124m'\u001B[39m]\n",
      "File \u001B[1;32m~\\AppData\\Local\\Programs\\Python\\Python310\\lib\\site-packages\\pandas\\core\\frame.py:8839\u001B[0m, in \u001B[0;36mDataFrame.apply\u001B[1;34m(self, func, axis, raw, result_type, args, **kwargs)\u001B[0m\n\u001B[0;32m   8828\u001B[0m \u001B[38;5;28;01mfrom\u001B[39;00m \u001B[38;5;21;01mpandas\u001B[39;00m\u001B[38;5;21;01m.\u001B[39;00m\u001B[38;5;21;01mcore\u001B[39;00m\u001B[38;5;21;01m.\u001B[39;00m\u001B[38;5;21;01mapply\u001B[39;00m \u001B[38;5;28;01mimport\u001B[39;00m frame_apply\n\u001B[0;32m   8830\u001B[0m op \u001B[38;5;241m=\u001B[39m frame_apply(\n\u001B[0;32m   8831\u001B[0m     \u001B[38;5;28mself\u001B[39m,\n\u001B[0;32m   8832\u001B[0m     func\u001B[38;5;241m=\u001B[39mfunc,\n\u001B[1;32m   (...)\u001B[0m\n\u001B[0;32m   8837\u001B[0m     kwargs\u001B[38;5;241m=\u001B[39mkwargs,\n\u001B[0;32m   8838\u001B[0m )\n\u001B[1;32m-> 8839\u001B[0m \u001B[38;5;28;01mreturn\u001B[39;00m \u001B[43mop\u001B[49m\u001B[38;5;241;43m.\u001B[39;49m\u001B[43mapply\u001B[49m\u001B[43m(\u001B[49m\u001B[43m)\u001B[49m\u001B[38;5;241m.\u001B[39m__finalize__(\u001B[38;5;28mself\u001B[39m, method\u001B[38;5;241m=\u001B[39m\u001B[38;5;124m\"\u001B[39m\u001B[38;5;124mapply\u001B[39m\u001B[38;5;124m\"\u001B[39m)\n",
      "File \u001B[1;32m~\\AppData\\Local\\Programs\\Python\\Python310\\lib\\site-packages\\pandas\\core\\apply.py:727\u001B[0m, in \u001B[0;36mFrameApply.apply\u001B[1;34m(self)\u001B[0m\n\u001B[0;32m    724\u001B[0m \u001B[38;5;28;01melif\u001B[39;00m \u001B[38;5;28mself\u001B[39m\u001B[38;5;241m.\u001B[39mraw:\n\u001B[0;32m    725\u001B[0m     \u001B[38;5;28;01mreturn\u001B[39;00m \u001B[38;5;28mself\u001B[39m\u001B[38;5;241m.\u001B[39mapply_raw()\n\u001B[1;32m--> 727\u001B[0m \u001B[38;5;28;01mreturn\u001B[39;00m \u001B[38;5;28;43mself\u001B[39;49m\u001B[38;5;241;43m.\u001B[39;49m\u001B[43mapply_standard\u001B[49m\u001B[43m(\u001B[49m\u001B[43m)\u001B[49m\n",
      "File \u001B[1;32m~\\AppData\\Local\\Programs\\Python\\Python310\\lib\\site-packages\\pandas\\core\\apply.py:851\u001B[0m, in \u001B[0;36mFrameApply.apply_standard\u001B[1;34m(self)\u001B[0m\n\u001B[0;32m    850\u001B[0m \u001B[38;5;28;01mdef\u001B[39;00m \u001B[38;5;21mapply_standard\u001B[39m(\u001B[38;5;28mself\u001B[39m):\n\u001B[1;32m--> 851\u001B[0m     results, res_index \u001B[38;5;241m=\u001B[39m \u001B[38;5;28;43mself\u001B[39;49m\u001B[38;5;241;43m.\u001B[39;49m\u001B[43mapply_series_generator\u001B[49m\u001B[43m(\u001B[49m\u001B[43m)\u001B[49m\n\u001B[0;32m    853\u001B[0m     \u001B[38;5;66;03m# wrap results\u001B[39;00m\n\u001B[0;32m    854\u001B[0m     \u001B[38;5;28;01mreturn\u001B[39;00m \u001B[38;5;28mself\u001B[39m\u001B[38;5;241m.\u001B[39mwrap_results(results, res_index)\n",
      "File \u001B[1;32m~\\AppData\\Local\\Programs\\Python\\Python310\\lib\\site-packages\\pandas\\core\\apply.py:867\u001B[0m, in \u001B[0;36mFrameApply.apply_series_generator\u001B[1;34m(self)\u001B[0m\n\u001B[0;32m    864\u001B[0m \u001B[38;5;28;01mwith\u001B[39;00m option_context(\u001B[38;5;124m\"\u001B[39m\u001B[38;5;124mmode.chained_assignment\u001B[39m\u001B[38;5;124m\"\u001B[39m, \u001B[38;5;28;01mNone\u001B[39;00m):\n\u001B[0;32m    865\u001B[0m     \u001B[38;5;28;01mfor\u001B[39;00m i, v \u001B[38;5;129;01min\u001B[39;00m \u001B[38;5;28menumerate\u001B[39m(series_gen):\n\u001B[0;32m    866\u001B[0m         \u001B[38;5;66;03m# ignore SettingWithCopy here in case the user mutates\u001B[39;00m\n\u001B[1;32m--> 867\u001B[0m         results[i] \u001B[38;5;241m=\u001B[39m \u001B[38;5;28;43mself\u001B[39;49m\u001B[38;5;241;43m.\u001B[39;49m\u001B[43mf\u001B[49m\u001B[43m(\u001B[49m\u001B[43mv\u001B[49m\u001B[43m)\u001B[49m\n\u001B[0;32m    868\u001B[0m         \u001B[38;5;28;01mif\u001B[39;00m \u001B[38;5;28misinstance\u001B[39m(results[i], ABCSeries):\n\u001B[0;32m    869\u001B[0m             \u001B[38;5;66;03m# If we have a view on v, we need to make a copy because\u001B[39;00m\n\u001B[0;32m    870\u001B[0m             \u001B[38;5;66;03m#  series_generator will swap out the underlying data\u001B[39;00m\n\u001B[0;32m    871\u001B[0m             results[i] \u001B[38;5;241m=\u001B[39m results[i]\u001B[38;5;241m.\u001B[39mcopy(deep\u001B[38;5;241m=\u001B[39m\u001B[38;5;28;01mFalse\u001B[39;00m)\n",
      "File \u001B[1;32m~\\Desktop\\football-prediction\\src\\selection\\evaluation.py:132\u001B[0m, in \u001B[0;36mcompare_betting_return.<locals>.<lambda>\u001B[1;34m(r)\u001B[0m\n\u001B[0;32m    129\u001B[0m y_pred_proba_adj[\u001B[38;5;124m'\u001B[39m\u001B[38;5;124mPred\u001B[39m\u001B[38;5;124m'\u001B[39m] \u001B[38;5;241m=\u001B[39m y_pred  \u001B[38;5;66;03m# predicted outcome\u001B[39;00m\n\u001B[0;32m    130\u001B[0m y_pred_proba_adj[\u001B[38;5;124m'\u001B[39m\u001B[38;5;124mPredProba\u001B[39m\u001B[38;5;124m'\u001B[39m] \u001B[38;5;241m=\u001B[39m y_pred_proba_df\u001B[38;5;241m.\u001B[39mmax(axis\u001B[38;5;241m=\u001B[39m\u001B[38;5;241m1\u001B[39m)  \u001B[38;5;66;03m# predicted probability of most likely outcome\u001B[39;00m\n\u001B[0;32m    131\u001B[0m y_pred_proba_adj[\u001B[38;5;124m'\u001B[39m\u001B[38;5;124mBmProba\u001B[39m\u001B[38;5;124m'\u001B[39m] \u001B[38;5;241m=\u001B[39m \u001B[38;5;241m1\u001B[39m \u001B[38;5;241m/\u001B[39m match_df\u001B[38;5;241m.\u001B[39mloc[test_indices]\u001B[38;5;241m.\u001B[39mapply(\n\u001B[1;32m--> 132\u001B[0m     \u001B[38;5;28;01mlambda\u001B[39;00m r: \u001B[43mr\u001B[49m\u001B[43m[\u001B[49m\u001B[38;5;124;43m'\u001B[39;49m\u001B[38;5;124;43mb365_H\u001B[39;49m\u001B[38;5;124;43m'\u001B[39;49m\u001B[43m]\u001B[49m \u001B[38;5;28;01mif\u001B[39;00m y_pred\u001B[38;5;241m.\u001B[39mloc[r\u001B[38;5;241m.\u001B[39mname] \u001B[38;5;241m==\u001B[39m \u001B[38;5;124m'\u001B[39m\u001B[38;5;124mH\u001B[39m\u001B[38;5;124m'\u001B[39m\n\u001B[0;32m    133\u001B[0m     \u001B[38;5;28;01melse\u001B[39;00m r[\u001B[38;5;124m'\u001B[39m\u001B[38;5;124mb365_D\u001B[39m\u001B[38;5;124m'\u001B[39m] \u001B[38;5;28;01mif\u001B[39;00m y_pred\u001B[38;5;241m.\u001B[39mloc[r\u001B[38;5;241m.\u001B[39mname] \u001B[38;5;241m==\u001B[39m \u001B[38;5;124m'\u001B[39m\u001B[38;5;124mD\u001B[39m\u001B[38;5;124m'\u001B[39m\n\u001B[0;32m    134\u001B[0m     \u001B[38;5;28;01melse\u001B[39;00m r[\u001B[38;5;124m'\u001B[39m\u001B[38;5;124mb365_A\u001B[39m\u001B[38;5;124m'\u001B[39m], axis\u001B[38;5;241m=\u001B[39m\u001B[38;5;241m1\u001B[39m)  \u001B[38;5;66;03m# Bookmaker prediction\u001B[39;00m\n\u001B[0;32m    136\u001B[0m \u001B[38;5;66;03m# Get thresholds as 1% steps between the smallest and greatest difference between bookmaker and estimator proba\u001B[39;00m\n\u001B[0;32m    137\u001B[0m pred_proba_dif \u001B[38;5;241m=\u001B[39m y_pred_proba_adj[\u001B[38;5;124m'\u001B[39m\u001B[38;5;124mPredProba\u001B[39m\u001B[38;5;124m'\u001B[39m] \u001B[38;5;241m-\u001B[39m y_pred_proba_adj[\u001B[38;5;124m'\u001B[39m\u001B[38;5;124mBmProba\u001B[39m\u001B[38;5;124m'\u001B[39m]\n",
      "File \u001B[1;32m~\\AppData\\Local\\Programs\\Python\\Python310\\lib\\site-packages\\pandas\\core\\series.py:958\u001B[0m, in \u001B[0;36mSeries.__getitem__\u001B[1;34m(self, key)\u001B[0m\n\u001B[0;32m    955\u001B[0m     \u001B[38;5;28;01mreturn\u001B[39;00m \u001B[38;5;28mself\u001B[39m\u001B[38;5;241m.\u001B[39m_values[key]\n\u001B[0;32m    957\u001B[0m \u001B[38;5;28;01melif\u001B[39;00m key_is_scalar:\n\u001B[1;32m--> 958\u001B[0m     \u001B[38;5;28;01mreturn\u001B[39;00m \u001B[38;5;28;43mself\u001B[39;49m\u001B[38;5;241;43m.\u001B[39;49m\u001B[43m_get_value\u001B[49m\u001B[43m(\u001B[49m\u001B[43mkey\u001B[49m\u001B[43m)\u001B[49m\n\u001B[0;32m    960\u001B[0m \u001B[38;5;28;01mif\u001B[39;00m is_hashable(key):\n\u001B[0;32m    961\u001B[0m     \u001B[38;5;66;03m# Otherwise index.get_value will raise InvalidIndexError\u001B[39;00m\n\u001B[0;32m    962\u001B[0m     \u001B[38;5;28;01mtry\u001B[39;00m:\n\u001B[0;32m    963\u001B[0m         \u001B[38;5;66;03m# For labels that don't resolve as scalars like tuples and frozensets\u001B[39;00m\n",
      "File \u001B[1;32m~\\AppData\\Local\\Programs\\Python\\Python310\\lib\\site-packages\\pandas\\core\\series.py:1069\u001B[0m, in \u001B[0;36mSeries._get_value\u001B[1;34m(self, label, takeable)\u001B[0m\n\u001B[0;32m   1066\u001B[0m     \u001B[38;5;28;01mreturn\u001B[39;00m \u001B[38;5;28mself\u001B[39m\u001B[38;5;241m.\u001B[39m_values[label]\n\u001B[0;32m   1068\u001B[0m \u001B[38;5;66;03m# Similar to Index.get_value, but we do not fall back to positional\u001B[39;00m\n\u001B[1;32m-> 1069\u001B[0m loc \u001B[38;5;241m=\u001B[39m \u001B[38;5;28;43mself\u001B[39;49m\u001B[38;5;241;43m.\u001B[39;49m\u001B[43mindex\u001B[49m\u001B[38;5;241;43m.\u001B[39;49m\u001B[43mget_loc\u001B[49m\u001B[43m(\u001B[49m\u001B[43mlabel\u001B[49m\u001B[43m)\u001B[49m\n\u001B[0;32m   1070\u001B[0m \u001B[38;5;28;01mreturn\u001B[39;00m \u001B[38;5;28mself\u001B[39m\u001B[38;5;241m.\u001B[39mindex\u001B[38;5;241m.\u001B[39m_get_values_for_loc(\u001B[38;5;28mself\u001B[39m, loc, label)\n",
      "File \u001B[1;32m~\\AppData\\Local\\Programs\\Python\\Python310\\lib\\site-packages\\pandas\\core\\indexes\\base.py:3623\u001B[0m, in \u001B[0;36mIndex.get_loc\u001B[1;34m(self, key, method, tolerance)\u001B[0m\n\u001B[0;32m   3621\u001B[0m     \u001B[38;5;28;01mreturn\u001B[39;00m \u001B[38;5;28mself\u001B[39m\u001B[38;5;241m.\u001B[39m_engine\u001B[38;5;241m.\u001B[39mget_loc(casted_key)\n\u001B[0;32m   3622\u001B[0m \u001B[38;5;28;01mexcept\u001B[39;00m \u001B[38;5;167;01mKeyError\u001B[39;00m \u001B[38;5;28;01mas\u001B[39;00m err:\n\u001B[1;32m-> 3623\u001B[0m     \u001B[38;5;28;01mraise\u001B[39;00m \u001B[38;5;167;01mKeyError\u001B[39;00m(key) \u001B[38;5;28;01mfrom\u001B[39;00m \u001B[38;5;21;01merr\u001B[39;00m\n\u001B[0;32m   3624\u001B[0m \u001B[38;5;28;01mexcept\u001B[39;00m \u001B[38;5;167;01mTypeError\u001B[39;00m:\n\u001B[0;32m   3625\u001B[0m     \u001B[38;5;66;03m# If we have a listlike key, _check_indexing_error will raise\u001B[39;00m\n\u001B[0;32m   3626\u001B[0m     \u001B[38;5;66;03m#  InvalidIndexError. Otherwise we fall through and re-raise\u001B[39;00m\n\u001B[0;32m   3627\u001B[0m     \u001B[38;5;66;03m#  the TypeError.\u001B[39;00m\n\u001B[0;32m   3628\u001B[0m     \u001B[38;5;28mself\u001B[39m\u001B[38;5;241m.\u001B[39m_check_indexing_error(key)\n",
      "\u001B[1;31mKeyError\u001B[0m: 'b365_H'"
     ]
    },
    {
     "data": {
      "text/plain": "<Figure size 619.2x443.077 with 1 Axes>",
      "image/png": "[encoded data removed]"
     },
     "metadata": {
      "needs_background": "light"
     },
     "output_type": "display_data"
    }
   ],
   "source": [
    "from src.selection.evaluation import compare_estimators\n",
    "tested_models = [\n",
    "    RandomForestClassifier(n_estimators=250),\n",
    "    LogisticRegression(),\n",
    "    GradientBoostingClassifier(),\n",
    "    GaussianNB(),\n",
    "    SVC(probability=True),\n",
    "    KNeighborsClassifier()\n",
    "]\n",
    "bookmaker_pred_train = bookmaker_pred.loc[X_train.index]\n",
    "compare_estimators(tested_models, X_train, y_train, match_df, bookmaker_pred_train)"
   ]
  },
  {
   "cell_type": "code",
   "execution_count": 56,
   "metadata": {
    "collapsed": false,
    "jupyter": {
     "outputs_hidden": false
    },
    "pycharm": {
     "name": "#%%\n"
    }
   },
   "outputs": [
    {
     "name": "stdout",
     "output_type": "stream",
     "text": [
      "SVC\n"
     ]
    },
    {
     "data": {
      "text/plain": "<Figure size 720x360 with 1 Axes>",
      "image/png": "[encoded data removed]"
     },
     "metadata": {
      "needs_background": "light"
     },
     "output_type": "display_data"
    }
   ],
   "source": [
    "from src.selection.evaluation import temp_cross_validate\n",
    "train_dates = match_df.loc[X_train.index]['date']\n",
    "tested = [SVC(),\n",
    "          #SVC(C=0.8),\n",
    "          #SVC(C=1.2),\n",
    "          #SVC(kernel='linear'),\n",
    "          #SVC(kernel='poly'),\n",
    "          #SVC(kernel='poly', degree=2),\n",
    "]\n",
    "for m in tested:\n",
    "    print(m.__class__.__name__)\n",
    "    _ = temp_cross_validate(m, X_train, y_train, visualize=True, dates=train_dates)"
   ]
  },
  {
   "cell_type": "markdown",
   "metadata": {
    "pycharm": {
     "name": "#%% md\n"
    }
   },
   "source": [
    "# Scraper"
   ]
  },
  {
   "cell_type": "code",
   "execution_count": 2,
   "metadata": {
    "collapsed": false,
    "jupyter": {
     "outputs_hidden": false
    },
    "pycharm": {
     "name": "#%%\n"
    }
   },
   "outputs": [],
   "source": [
    "from src.scraper import Scraper\n",
    "scraper = Scraper()"
   ]
  },
  {
   "cell_type": "code",
   "execution_count": 5,
   "metadata": {
    "collapsed": false,
    "jupyter": {
     "outputs_hidden": false
    },
    "pycharm": {
     "name": "#%%\n"
    }
   },
   "outputs": [],
   "source": [
    "#scraper.get_match_data(seasons=[2019], leagues=[\"FR1\"], matchdays=[29, 30, 31, 32, 33, 34, 35, 36, 37, 38])\n",
    "scraper.get_match_data(seasons=[2015], leagues=[\"ES1\", \"IT1\", \"FR1\"], matchdays=38)"
   ]
  },
  {
   "cell_type": "code",
   "execution_count": 10,
   "metadata": {
    "collapsed": false,
    "jupyter": {
     "outputs_hidden": false
    },
    "pycharm": {
     "name": "#%%\n"
    }
   },
   "outputs": [
    {
     "name": "stderr",
     "output_type": "stream",
     "text": [
      "Getting team data: 100%|██████████| 4/4 [00:27<00:00,  6.95s/it]\n"
     ]
    }
   ],
   "source": [
    "scraper.fill_missing_team_data()"
   ]
  },
  {
   "cell_type": "code",
   "execution_count": 24,
   "metadata": {
    "collapsed": false,
    "jupyter": {
     "outputs_hidden": false
    },
    "pycharm": {
     "name": "#%%\n"
    }
   },
   "outputs": [],
   "source": [
    "from src.data.access_old import DbAccessLayer as DbAccessLayerOld\n",
    "teams_df = DbAccessLayer().load_table('Team')\n",
    "odds_df = DbAccessLayerOld().load_table('Match')\n",
    "old_teams_df = DbAccessLayerOld().load_table('Team')"
   ]
  },
  {
   "cell_type": "code",
   "execution_count": 7,
   "outputs": [],
   "source": [
    "from src.data.access_old import DbAccessLayer as DbAccessLayerOld\n",
    "old_teams_df = DbAccessLayerOld().load_table('Team')\n",
    "old_teams_df.to_csv(\"old_teams.csv\")"
   ],
   "metadata": {
    "collapsed": false,
    "pycharm": {
     "name": "#%%\n"
    }
   }
  },
  {
   "cell_type": "markdown",
   "source": [
    "# Odds Creation"
   ],
   "metadata": {
    "collapsed": false,
    "pycharm": {
     "name": "#%% md\n"
    }
   }
  },
  {
   "cell_type": "code",
   "execution_count": 24,
   "outputs": [],
   "source": [
    "from src.data.access_old import DbAccessLayer as DbAccessLayerOld\n",
    "db_access = DbAccessLayer()\n",
    "match_df = db_access.load_table(\"Match\")\n",
    "odds_relation = db_access.load_table(\"TeamOdds\")\n",
    "odds_df = db_access.load_table(\"MatchSecondary\")"
   ],
   "metadata": {
    "collapsed": false,
    "pycharm": {
     "name": "#%%\n"
    }
   }
  },
  {
   "cell_type": "code",
   "execution_count": 25,
   "outputs": [
    {
     "data": {
      "text/plain": "       match_id league_id season  matchday       date     time  home_team_id  \\\n6080      57656       FR1  06/07         1 2006-08-04  8:00 PM           995   \n8513      57662       FR1  06/07         1 2006-08-05  7:00 PM          1164   \n8770      57659       FR1  06/07         1 2006-08-05  7:00 PM           583   \n6483      57657       FR1  06/07         1 2006-08-05  4:15 PM           273   \n7267      57660       FR1  06/07         1 2006-08-05  7:00 PM          1159   \n...         ...       ...    ...       ...        ...      ...           ...   \n13819   3611510       ES1  21/22        38 2022-05-22  9:00 PM           131   \n18258   3611515       ES1  21/22        38 2022-05-22  9:00 PM           368   \n20460   3614917       IT1  21/22        38 2022-05-22  8:00 PM           607   \n21143   3614913       IT1  21/22        38 2022-05-22  8:00 PM           380   \n18168   3611509       ES1  21/22        38 2022-05-22  7:00 PM          1108   \n\n       away_team_id  table_position_home  table_position_away  ...  PCAHA  \\\n6080           1041                   20                    1  ...    NaN   \n8513            417                   12                   16  ...    NaN   \n8770           1158                   15                   14  ...    NaN   \n6483           1082                    4                   10  ...    NaN   \n7267            162                   13                    9  ...    NaN   \n...             ...                  ...                  ...  ...    ...   \n13819          1050                    2                    7  ...   1.85   \n18258           621                    4                    8  ...   1.90   \n20460          1390                   20                   18  ...   2.06   \n21143           410                   17                   12  ...   2.04   \n18168          2687                   20                   18  ...   1.97   \n\n       MaxCAHH  MaxCAHA AvgCAHH  AvgCAHA  LB LB.1 LB.2 HFKC  AFKC  \n6080       NaN      NaN     NaN      NaN NaN  NaN  NaN  NaN   NaN  \n8513       NaN      NaN     NaN      NaN NaN  NaN  NaN  NaN   NaN  \n8770       NaN      NaN     NaN      NaN NaN  NaN  NaN  NaN   NaN  \n6483       NaN      NaN     NaN      NaN NaN  NaN  NaN  NaN   NaN  \n7267       NaN      NaN     NaN      NaN NaN  NaN  NaN  NaN   NaN  \n...        ...      ...     ...      ...  ..  ...  ...  ...   ...  \n13819     2.09     2.00    1.97     1.91 NaN  NaN  NaN  NaN   NaN  \n18258     2.07     2.06    2.00     1.88 NaN  NaN  NaN  NaN   NaN  \n20460     1.97     2.22    1.79     2.09 NaN  NaN  NaN  NaN   NaN  \n21143     1.93     2.04    1.89     1.99 NaN  NaN  NaN  NaN   NaN  \n18168     2.06     2.03    1.92     1.95 NaN  NaN  NaN  NaN   NaN  \n\n[33220 rows x 190 columns]",
      "text/html": "<div>\n<style scoped>\n    .dataframe tbody tr th:only-of-type {\n        vertical-align: middle;\n    }\n\n    .dataframe tbody tr th {\n        vertical-align: top;\n    }\n\n    .dataframe thead th {\n        text-align: right;\n    }\n</style>\n<table border=\"1\" class=\"dataframe\">\n  <thead>\n    <tr style=\"text-align: right;\">\n      <th></th>\n      <th>match_id</th>\n      <th>league_id</th>\n      <th>season</th>\n      <th>matchday</th>\n      <th>date</th>\n      <th>time</th>\n      <th>home_team_id</th>\n      <th>away_team_id</th>\n      <th>table_position_home</th>\n      <th>table_position_away</th>\n      <th>...</th>\n      <th>PCAHA</th>\n      <th>MaxCAHH</th>\n      <th>MaxCAHA</th>\n      <th>AvgCAHH</th>\n      <th>AvgCAHA</th>\n      <th>LB</th>\n      <th>LB.1</th>\n      <th>LB.2</th>\n      <th>HFKC</th>\n      <th>AFKC</th>\n    </tr>\n  </thead>\n  <tbody>\n    <tr>\n      <th>6080</th>\n      <td>57656</td>\n      <td>FR1</td>\n      <td>06/07</td>\n      <td>1</td>\n      <td>2006-08-04</td>\n      <td>8:00 PM</td>\n      <td>995</td>\n      <td>1041</td>\n      <td>20</td>\n      <td>1</td>\n      <td>...</td>\n      <td>NaN</td>\n      <td>NaN</td>\n      <td>NaN</td>\n      <td>NaN</td>\n      <td>NaN</td>\n      <td>NaN</td>\n      <td>NaN</td>\n      <td>NaN</td>\n      <td>NaN</td>\n      <td>NaN</td>\n    </tr>\n    <tr>\n      <th>8513</th>\n      <td>57662</td>\n      <td>FR1</td>\n      <td>06/07</td>\n      <td>1</td>\n      <td>2006-08-05</td>\n      <td>7:00 PM</td>\n      <td>1164</td>\n      <td>417</td>\n      <td>12</td>\n      <td>16</td>\n      <td>...</td>\n      <td>NaN</td>\n      <td>NaN</td>\n      <td>NaN</td>\n      <td>NaN</td>\n      <td>NaN</td>\n      <td>NaN</td>\n      <td>NaN</td>\n      <td>NaN</td>\n      <td>NaN</td>\n      <td>NaN</td>\n    </tr>\n    <tr>\n      <th>8770</th>\n      <td>57659</td>\n      <td>FR1</td>\n      <td>06/07</td>\n      <td>1</td>\n      <td>2006-08-05</td>\n      <td>7:00 PM</td>\n      <td>583</td>\n      <td>1158</td>\n      <td>15</td>\n      <td>14</td>\n      <td>...</td>\n      <td>NaN</td>\n      <td>NaN</td>\n      <td>NaN</td>\n      <td>NaN</td>\n      <td>NaN</td>\n      <td>NaN</td>\n      <td>NaN</td>\n      <td>NaN</td>\n      <td>NaN</td>\n      <td>NaN</td>\n    </tr>\n    <tr>\n      <th>6483</th>\n      <td>57657</td>\n      <td>FR1</td>\n      <td>06/07</td>\n      <td>1</td>\n      <td>2006-08-05</td>\n      <td>4:15 PM</td>\n      <td>273</td>\n      <td>1082</td>\n      <td>4</td>\n      <td>10</td>\n      <td>...</td>\n      <td>NaN</td>\n      <td>NaN</td>\n      <td>NaN</td>\n      <td>NaN</td>\n      <td>NaN</td>\n      <td>NaN</td>\n      <td>NaN</td>\n      <td>NaN</td>\n      <td>NaN</td>\n      <td>NaN</td>\n    </tr>\n    <tr>\n      <th>7267</th>\n      <td>57660</td>\n      <td>FR1</td>\n      <td>06/07</td>\n      <td>1</td>\n      <td>2006-08-05</td>\n      <td>7:00 PM</td>\n      <td>1159</td>\n      <td>162</td>\n      <td>13</td>\n      <td>9</td>\n      <td>...</td>\n      <td>NaN</td>\n      <td>NaN</td>\n      <td>NaN</td>\n      <td>NaN</td>\n      <td>NaN</td>\n      <td>NaN</td>\n      <td>NaN</td>\n      <td>NaN</td>\n      <td>NaN</td>\n      <td>NaN</td>\n    </tr>\n    <tr>\n      <th>...</th>\n      <td>...</td>\n      <td>...</td>\n      <td>...</td>\n      <td>...</td>\n      <td>...</td>\n      <td>...</td>\n      <td>...</td>\n      <td>...</td>\n      <td>...</td>\n      <td>...</td>\n      <td>...</td>\n      <td>...</td>\n      <td>...</td>\n      <td>...</td>\n      <td>...</td>\n      <td>...</td>\n      <td>...</td>\n      <td>...</td>\n      <td>...</td>\n      <td>...</td>\n      <td>...</td>\n    </tr>\n    <tr>\n      <th>13819</th>\n      <td>3611510</td>\n      <td>ES1</td>\n      <td>21/22</td>\n      <td>38</td>\n      <td>2022-05-22</td>\n      <td>9:00 PM</td>\n      <td>131</td>\n      <td>1050</td>\n      <td>2</td>\n      <td>7</td>\n      <td>...</td>\n      <td>1.85</td>\n      <td>2.09</td>\n      <td>2.00</td>\n      <td>1.97</td>\n      <td>1.91</td>\n      <td>NaN</td>\n      <td>NaN</td>\n      <td>NaN</td>\n      <td>NaN</td>\n      <td>NaN</td>\n    </tr>\n    <tr>\n      <th>18258</th>\n      <td>3611515</td>\n      <td>ES1</td>\n      <td>21/22</td>\n      <td>38</td>\n      <td>2022-05-22</td>\n      <td>9:00 PM</td>\n      <td>368</td>\n      <td>621</td>\n      <td>4</td>\n      <td>8</td>\n      <td>...</td>\n      <td>1.90</td>\n      <td>2.07</td>\n      <td>2.06</td>\n      <td>2.00</td>\n      <td>1.88</td>\n      <td>NaN</td>\n      <td>NaN</td>\n      <td>NaN</td>\n      <td>NaN</td>\n      <td>NaN</td>\n    </tr>\n    <tr>\n      <th>20460</th>\n      <td>3614917</td>\n      <td>IT1</td>\n      <td>21/22</td>\n      <td>38</td>\n      <td>2022-05-22</td>\n      <td>8:00 PM</td>\n      <td>607</td>\n      <td>1390</td>\n      <td>20</td>\n      <td>18</td>\n      <td>...</td>\n      <td>2.06</td>\n      <td>1.97</td>\n      <td>2.22</td>\n      <td>1.79</td>\n      <td>2.09</td>\n      <td>NaN</td>\n      <td>NaN</td>\n      <td>NaN</td>\n      <td>NaN</td>\n      <td>NaN</td>\n    </tr>\n    <tr>\n      <th>21143</th>\n      <td>3614913</td>\n      <td>IT1</td>\n      <td>21/22</td>\n      <td>38</td>\n      <td>2022-05-22</td>\n      <td>8:00 PM</td>\n      <td>380</td>\n      <td>410</td>\n      <td>17</td>\n      <td>12</td>\n      <td>...</td>\n      <td>2.04</td>\n      <td>1.93</td>\n      <td>2.04</td>\n      <td>1.89</td>\n      <td>1.99</td>\n      <td>NaN</td>\n      <td>NaN</td>\n      <td>NaN</td>\n      <td>NaN</td>\n      <td>NaN</td>\n    </tr>\n    <tr>\n      <th>18168</th>\n      <td>3611509</td>\n      <td>ES1</td>\n      <td>21/22</td>\n      <td>38</td>\n      <td>2022-05-22</td>\n      <td>7:00 PM</td>\n      <td>1108</td>\n      <td>2687</td>\n      <td>20</td>\n      <td>18</td>\n      <td>...</td>\n      <td>1.97</td>\n      <td>2.06</td>\n      <td>2.03</td>\n      <td>1.92</td>\n      <td>1.95</td>\n      <td>NaN</td>\n      <td>NaN</td>\n      <td>NaN</td>\n      <td>NaN</td>\n      <td>NaN</td>\n    </tr>\n  </tbody>\n</table>\n<p>33220 rows × 190 columns</p>\n</div>"
     },
     "execution_count": 25,
     "metadata": {},
     "output_type": "execute_result"
    }
   ],
   "source": [
    "match_df_adj = match_df.copy()\n",
    "match_df_adj['date'] = pd.to_datetime(match_df_adj['date'])\n",
    "odds_df['Date'] = pd.to_datetime(odds_df['Date'])\n",
    "odds_df.dropna(subset=['HomeTeam', 'AwayTeam'], inplace=True)\n",
    "match_df_adj = match_df_adj.merge(odds_relation[['team_id', 'odds_team_name']], left_on=\"home_team_id\", right_on=\"team_id\").rename(columns={'odds_team_name': 'odds_team_name_home'}).drop(columns=['team_id'])\n",
    "match_df_adj = match_df_adj.merge(odds_relation[['team_id', 'odds_team_name']], left_on=\"away_team_id\", right_on=\"team_id\").rename(columns={'odds_team_name': 'odds_team_name_away'}).drop(columns=['team_id'])\n",
    "match_df_adj = match_df_adj.merge(odds_df, left_on=['date', 'odds_team_name_home', 'odds_team_name_away'], right_on=['Date', 'HomeTeam', 'AwayTeam'], how='left')\n",
    "match_df_adj = match_df_adj.sort_values('Date').drop_duplicates(subset=['match_id'])\n",
    "valid_matches = match_df_adj.dropna(subset=['B365H', 'B365D', 'B365A'])\n",
    "valid_matches"
   ],
   "metadata": {
    "collapsed": false,
    "pycharm": {
     "name": "#%%\n"
    }
   }
  },
  {
   "cell_type": "code",
   "execution_count": 34,
   "outputs": [],
   "source": [
    "db_access.save_odds(valid_matches)"
   ],
   "metadata": {
    "collapsed": false,
    "pycharm": {
     "name": "#%%\n"
    }
   }
  },
  {
   "cell_type": "code",
   "execution_count": 26,
   "outputs": [
    {
     "name": "stdout",
     "output_type": "stream",
     "text": [
      "Missing values: 0.2%\n"
     ]
    }
   ],
   "source": [
    "missing_ratio = (len(match_df_adj) - len(valid_matches)) / len(match_df_adj)\n",
    "print(f\"Missing values: {round(missing_ratio*100, 2)}%\")"
   ],
   "metadata": {
    "collapsed": false,
    "pycharm": {
     "name": "#%%\n"
    }
   }
  },
  {
   "cell_type": "code",
   "execution_count": 27,
   "outputs": [
    {
     "data": {
      "text/plain": "       match_id league_id season  matchday       date      time  home_team_id  \\\n51        55685       GB1  06/07        25 2007-01-31   8:45 PM           379   \n422       55660       GB1  06/07        23 2007-01-13   4:00 PM            29   \n972       55666       GB1  06/07        24 2007-01-20   4:00 PM            11   \n1067      55693       GB1  06/07        26 2007-02-03   4:00 PM           148   \n1274      55646       GB1  06/07        22 2007-01-01   4:00 PM            11   \n1281      55677       GB1  06/07        25 2007-01-30   8:45 PM           355   \n2557      55610       GB1  06/07        18 2006-12-16   4:00 PM           281   \n2831      55675       GB1  06/07        24 2007-01-20   4:00 PM          1071   \n3108      55663       GB1  06/07        23 2007-01-13   4:00 PM           148   \n6081     912905       FR1  08/09        17 2008-12-06   8:00 PM           995   \n6810    3589478       FR1  21/22        30 2022-04-03   2:00 PM           618   \n7169      57990       FR1  06/07        34 2007-04-28   8:00 PM           244   \n7498    3199502       FR1  19/20        15 2019-11-30   7:00 PM           273   \n8882    1042687       FR1  10/11        16 2010-12-05   2:00 PM          1082   \n9829    3199501       FR1  19/20        15 2019-11-30   7:00 PM           995   \n9858      57811       FR1  06/07        16 2006-12-03   6:00 PM           583   \n10042   3195024       FR1  19/20         1 2019-08-09  11:00 PM          3911   \n10270    958642       FR1  09/10        30 2010-03-27   4:00 PM          1041   \n11704   3199503       FR1  19/20        15 2019-11-30   7:00 PM           244   \n12078     58548       ES1  06/07        14 2006-12-10   6:00 PM           131   \n12363     58567       ES1  06/07        16 2006-12-20   6:00 PM           131   \n12379     58536       ES1  06/07        13 2006-12-03   6:00 PM           150   \n12584     58588       ES1  06/07        18 2007-01-14   6:00 PM           714   \n12723     58539       ES1  06/07        13 2006-12-03   6:00 PM          3368   \n13143     58606       ES1  06/07        20 2007-01-28   6:00 PM            13   \n13164     58561       ES1  06/07        15 2006-12-17   6:00 PM           237   \n13407     58604       ES1  06/07        19 2007-01-21   6:00 PM          1050   \n13422     58585       ES1  06/07        17 2007-01-07   6:00 PM           142   \n13577     58566       ES1  06/07        16 2006-12-20   6:00 PM           621   \n14549     58576       ES1  06/07        17 2007-01-07   6:00 PM            13   \n14651     58596       ES1  06/07        19 2007-01-21   6:00 PM            13   \n14703     58583       ES1  06/07        17 2007-01-07   6:00 PM           681   \n14872     58542       ES1  06/07        13 2006-12-03   6:00 PM          2867   \n15008     58565       ES1  06/07        15 2006-12-17   6:00 PM           142   \n15475     58554       ES1  06/07        14 2006-12-10   6:00 PM           368   \n15523     58646       ES1  06/07        24 2007-02-25   6:00 PM            13   \n15603     58614       ES1  06/07        20 2007-01-28   6:00 PM          1050   \n15751     78870       ES1  07/08         9 2007-10-28   4:00 PM           418   \n15977     58575       ES1  06/07        16 2006-12-20   6:00 PM          1049   \n16170     58595       ES1  06/07        18 2007-01-14   6:00 PM          1049   \n16667    920352       ES1  08/09         2 2008-09-13   9:00 PM           368   \n18196     58559       ES1  06/07        15 2006-12-17   6:00 PM           897   \n18566   1137292       IT1  11/12        22 2012-02-05   2:00 PM            12   \n19011    932411       IT1  08/09        25 2009-02-21  11:00 PM           430   \n19297   2359287       IT1  13/14         9 2013-10-26  11:00 PM           862   \n22367   2359246       IT1  13/14         5 2013-09-24  11:00 PM           862   \n22932    932268       IT1  08/09        17 2008-12-20  11:00 PM           862   \n22934   1047530       IT1  10/11        21 2011-01-23   2:00 PM           862   \n23299   2251453       IT1  12/13        21 2013-01-20   2:00 PM             5   \n29965    959249        L1  09/10        28 2010-03-26   2:30 PM           533   \n30504     69885        L2  07/08        28 2008-04-11   5:00 PM           108   \n31617   1042507        L2  10/11        18 2011-01-18   6:00 PM            48   \n\n       away_team_id  table_position_home  table_position_away  ...  PCAHA  \\\n51               31                   18                    3  ...    NaN   \n422            1032                   10                    8  ...    NaN   \n972             985                    5                    1  ...    NaN   \n1067            985                    8                    1  ...    NaN   \n1274            358                    6                   20  ...    NaN   \n1281            358                    5                   20  ...    NaN   \n2557            148                   11                    9  ...    NaN   \n2831             29                   17                   10  ...    NaN   \n3108            762                    7                   14  ...    NaN   \n6081           1041                   16                    1  ...    NaN   \n6810            244                   18                    2  ...    NaN   \n7169            750                    5                    7  ...    NaN   \n7498            618                    6                    5  ...    NaN   \n8882           1158                    2                   11  ...    NaN   \n9829            415                    9                   19  ...    NaN   \n9858            415                   13                    9  ...    NaN   \n10042           415                   14                   20  ...    NaN   \n10270          1290                    6                   20  ...    NaN   \n11704          3911                    2                   13  ...    NaN   \n12078           681                    1                   19  ...    NaN   \n12363            13                    1                    4  ...    NaN   \n12379            13                   17                    5  ...    NaN   \n12584           131                   10                    2  ...    NaN   \n12723           131                   15                    1  ...    NaN   \n13143           630                    5                   12  ...    NaN   \n13164           630                   14                   15  ...    NaN   \n13407           368                   11                    1  ...    NaN   \n13422           368                    6                    1  ...    NaN   \n13577           142                   17                    5  ...    NaN   \n14549          5648                    4                   20  ...    NaN   \n14651           331                    5                    9  ...    NaN   \n14703           331                   19                    8  ...    NaN   \n14872          1049                    7                    8  ...    NaN   \n15008          1049                    4                    9  ...    NaN   \n15475           418                    3                    2  ...    NaN   \n15523           418                    5                    3  ...    NaN   \n15603           418                   11                    3  ...    NaN   \n15751           897                    1                   16  ...    NaN   \n15977           237                    6                   14  ...    NaN   \n16170          3368                    4                   16  ...    NaN   \n16667          2448                   10                   14  ...    NaN   \n18196           621                   13                   17  ...    NaN   \n18566            46                    6                    5  ...    NaN   \n19011           862                    4                   19  ...    NaN   \n19297           430                   19                    6  ...    NaN   \n22367           506                   14                    5  ...    NaN   \n22932           252                   20                    6  ...    NaN   \n22934           252                   13                   11  ...    NaN   \n23299          1025                    7                   14  ...    NaN   \n29965            60                   11                   17  ...    NaN   \n30504            35                    7                   11  ...    NaN   \n31617            65                   16                    6  ...    NaN   \n\n       MaxCAHH  MaxCAHA AvgCAHH  AvgCAHA  LB LB.1 LB.2 HFKC  AFKC  \n51         NaN      NaN     NaN      NaN NaN  NaN  NaN  NaN   NaN  \n422        NaN      NaN     NaN      NaN NaN  NaN  NaN  NaN   NaN  \n972        NaN      NaN     NaN      NaN NaN  NaN  NaN  NaN   NaN  \n1067       NaN      NaN     NaN      NaN NaN  NaN  NaN  NaN   NaN  \n1274       NaN      NaN     NaN      NaN NaN  NaN  NaN  NaN   NaN  \n1281       NaN      NaN     NaN      NaN NaN  NaN  NaN  NaN   NaN  \n2557       NaN      NaN     NaN      NaN NaN  NaN  NaN  NaN   NaN  \n2831       NaN      NaN     NaN      NaN NaN  NaN  NaN  NaN   NaN  \n3108       NaN      NaN     NaN      NaN NaN  NaN  NaN  NaN   NaN  \n6081       NaN      NaN     NaN      NaN NaN  NaN  NaN  NaN   NaN  \n6810       NaN      NaN     NaN      NaN NaN  NaN  NaN  NaN   NaN  \n7169       NaN      NaN     NaN      NaN NaN  NaN  NaN  NaN   NaN  \n7498       NaN      NaN     NaN      NaN NaN  NaN  NaN  NaN   NaN  \n8882       NaN      NaN     NaN      NaN NaN  NaN  NaN  NaN   NaN  \n9829       NaN      NaN     NaN      NaN NaN  NaN  NaN  NaN   NaN  \n9858       NaN      NaN     NaN      NaN NaN  NaN  NaN  NaN   NaN  \n10042      NaN      NaN     NaN      NaN NaN  NaN  NaN  NaN   NaN  \n10270      NaN      NaN     NaN      NaN NaN  NaN  NaN  NaN   NaN  \n11704      NaN      NaN     NaN      NaN NaN  NaN  NaN  NaN   NaN  \n12078      NaN      NaN     NaN      NaN NaN  NaN  NaN  NaN   NaN  \n12363      NaN      NaN     NaN      NaN NaN  NaN  NaN  NaN   NaN  \n12379      NaN      NaN     NaN      NaN NaN  NaN  NaN  NaN   NaN  \n12584      NaN      NaN     NaN      NaN NaN  NaN  NaN  NaN   NaN  \n12723      NaN      NaN     NaN      NaN NaN  NaN  NaN  NaN   NaN  \n13143      NaN      NaN     NaN      NaN NaN  NaN  NaN  NaN   NaN  \n13164      NaN      NaN     NaN      NaN NaN  NaN  NaN  NaN   NaN  \n13407      NaN      NaN     NaN      NaN NaN  NaN  NaN  NaN   NaN  \n13422      NaN      NaN     NaN      NaN NaN  NaN  NaN  NaN   NaN  \n13577      NaN      NaN     NaN      NaN NaN  NaN  NaN  NaN   NaN  \n14549      NaN      NaN     NaN      NaN NaN  NaN  NaN  NaN   NaN  \n14651      NaN      NaN     NaN      NaN NaN  NaN  NaN  NaN   NaN  \n14703      NaN      NaN     NaN      NaN NaN  NaN  NaN  NaN   NaN  \n14872      NaN      NaN     NaN      NaN NaN  NaN  NaN  NaN   NaN  \n15008      NaN      NaN     NaN      NaN NaN  NaN  NaN  NaN   NaN  \n15475      NaN      NaN     NaN      NaN NaN  NaN  NaN  NaN   NaN  \n15523      NaN      NaN     NaN      NaN NaN  NaN  NaN  NaN   NaN  \n15603      NaN      NaN     NaN      NaN NaN  NaN  NaN  NaN   NaN  \n15751      NaN      NaN     NaN      NaN NaN  NaN  NaN  NaN   NaN  \n15977      NaN      NaN     NaN      NaN NaN  NaN  NaN  NaN   NaN  \n16170      NaN      NaN     NaN      NaN NaN  NaN  NaN  NaN   NaN  \n16667      NaN      NaN     NaN      NaN NaN  NaN  NaN  NaN   NaN  \n18196      NaN      NaN     NaN      NaN NaN  NaN  NaN  NaN   NaN  \n18566      NaN      NaN     NaN      NaN NaN  NaN  NaN  NaN   NaN  \n19011      NaN      NaN     NaN      NaN NaN  NaN  NaN  NaN   NaN  \n19297      NaN      NaN     NaN      NaN NaN  NaN  NaN  NaN   NaN  \n22367      NaN      NaN     NaN      NaN NaN  NaN  NaN  NaN   NaN  \n22932      NaN      NaN     NaN      NaN NaN  NaN  NaN  NaN   NaN  \n22934      NaN      NaN     NaN      NaN NaN  NaN  NaN  NaN   NaN  \n23299      NaN      NaN     NaN      NaN NaN  NaN  NaN  NaN   NaN  \n29965      NaN      NaN     NaN      NaN NaN  NaN  NaN  NaN   NaN  \n30504      NaN      NaN     NaN      NaN NaN  NaN  NaN  NaN   NaN  \n31617      NaN      NaN     NaN      NaN NaN  NaN  NaN  NaN   NaN  \n\n[52 rows x 190 columns]",
      "text/html": "<div>\n<style scoped>\n    .dataframe tbody tr th:only-of-type {\n        vertical-align: middle;\n    }\n\n    .dataframe tbody tr th {\n        vertical-align: top;\n    }\n\n    .dataframe thead th {\n        text-align: right;\n    }\n</style>\n<table border=\"1\" class=\"dataframe\">\n  <thead>\n    <tr style=\"text-align: right;\">\n      <th></th>\n      <th>match_id</th>\n      <th>league_id</th>\n      <th>season</th>\n      <th>matchday</th>\n      <th>date</th>\n      <th>time</th>\n      <th>home_team_id</th>\n      <th>away_team_id</th>\n      <th>table_position_home</th>\n      <th>table_position_away</th>\n      <th>...</th>\n      <th>PCAHA</th>\n      <th>MaxCAHH</th>\n      <th>MaxCAHA</th>\n      <th>AvgCAHH</th>\n      <th>AvgCAHA</th>\n      <th>LB</th>\n      <th>LB.1</th>\n      <th>LB.2</th>\n      <th>HFKC</th>\n      <th>AFKC</th>\n    </tr>\n  </thead>\n  <tbody>\n    <tr>\n      <th>51</th>\n      <td>55685</td>\n      <td>GB1</td>\n      <td>06/07</td>\n      <td>25</td>\n      <td>2007-01-31</td>\n      <td>8:45 PM</td>\n      <td>379</td>\n      <td>31</td>\n      <td>18</td>\n      <td>3</td>\n      <td>...</td>\n      <td>NaN</td>\n      <td>NaN</td>\n      <td>NaN</td>\n      <td>NaN</td>\n      <td>NaN</td>\n      <td>NaN</td>\n      <td>NaN</td>\n      <td>NaN</td>\n      <td>NaN</td>\n      <td>NaN</td>\n    </tr>\n    <tr>\n      <th>422</th>\n      <td>55660</td>\n      <td>GB1</td>\n      <td>06/07</td>\n      <td>23</td>\n      <td>2007-01-13</td>\n      <td>4:00 PM</td>\n      <td>29</td>\n      <td>1032</td>\n      <td>10</td>\n      <td>8</td>\n      <td>...</td>\n      <td>NaN</td>\n      <td>NaN</td>\n      <td>NaN</td>\n      <td>NaN</td>\n      <td>NaN</td>\n      <td>NaN</td>\n      <td>NaN</td>\n      <td>NaN</td>\n      <td>NaN</td>\n      <td>NaN</td>\n    </tr>\n    <tr>\n      <th>972</th>\n      <td>55666</td>\n      <td>GB1</td>\n      <td>06/07</td>\n      <td>24</td>\n      <td>2007-01-20</td>\n      <td>4:00 PM</td>\n      <td>11</td>\n      <td>985</td>\n      <td>5</td>\n      <td>1</td>\n      <td>...</td>\n      <td>NaN</td>\n      <td>NaN</td>\n      <td>NaN</td>\n      <td>NaN</td>\n      <td>NaN</td>\n      <td>NaN</td>\n      <td>NaN</td>\n      <td>NaN</td>\n      <td>NaN</td>\n      <td>NaN</td>\n    </tr>\n    <tr>\n      <th>1067</th>\n      <td>55693</td>\n      <td>GB1</td>\n      <td>06/07</td>\n      <td>26</td>\n      <td>2007-02-03</td>\n      <td>4:00 PM</td>\n      <td>148</td>\n      <td>985</td>\n      <td>8</td>\n      <td>1</td>\n      <td>...</td>\n      <td>NaN</td>\n      <td>NaN</td>\n      <td>NaN</td>\n      <td>NaN</td>\n      <td>NaN</td>\n      <td>NaN</td>\n      <td>NaN</td>\n      <td>NaN</td>\n      <td>NaN</td>\n      <td>NaN</td>\n    </tr>\n    <tr>\n      <th>1274</th>\n      <td>55646</td>\n      <td>GB1</td>\n      <td>06/07</td>\n      <td>22</td>\n      <td>2007-01-01</td>\n      <td>4:00 PM</td>\n      <td>11</td>\n      <td>358</td>\n      <td>6</td>\n      <td>20</td>\n      <td>...</td>\n      <td>NaN</td>\n      <td>NaN</td>\n      <td>NaN</td>\n      <td>NaN</td>\n      <td>NaN</td>\n      <td>NaN</td>\n      <td>NaN</td>\n      <td>NaN</td>\n      <td>NaN</td>\n      <td>NaN</td>\n    </tr>\n    <tr>\n      <th>1281</th>\n      <td>55677</td>\n      <td>GB1</td>\n      <td>06/07</td>\n      <td>25</td>\n      <td>2007-01-30</td>\n      <td>8:45 PM</td>\n      <td>355</td>\n      <td>358</td>\n      <td>5</td>\n      <td>20</td>\n      <td>...</td>\n      <td>NaN</td>\n      <td>NaN</td>\n      <td>NaN</td>\n      <td>NaN</td>\n      <td>NaN</td>\n      <td>NaN</td>\n      <td>NaN</td>\n      <td>NaN</td>\n      <td>NaN</td>\n      <td>NaN</td>\n    </tr>\n    <tr>\n      <th>2557</th>\n      <td>55610</td>\n      <td>GB1</td>\n      <td>06/07</td>\n      <td>18</td>\n      <td>2006-12-16</td>\n      <td>4:00 PM</td>\n      <td>281</td>\n      <td>148</td>\n      <td>11</td>\n      <td>9</td>\n      <td>...</td>\n      <td>NaN</td>\n      <td>NaN</td>\n      <td>NaN</td>\n      <td>NaN</td>\n      <td>NaN</td>\n      <td>NaN</td>\n      <td>NaN</td>\n      <td>NaN</td>\n      <td>NaN</td>\n      <td>NaN</td>\n    </tr>\n    <tr>\n      <th>2831</th>\n      <td>55675</td>\n      <td>GB1</td>\n      <td>06/07</td>\n      <td>24</td>\n      <td>2007-01-20</td>\n      <td>4:00 PM</td>\n      <td>1071</td>\n      <td>29</td>\n      <td>17</td>\n      <td>10</td>\n      <td>...</td>\n      <td>NaN</td>\n      <td>NaN</td>\n      <td>NaN</td>\n      <td>NaN</td>\n      <td>NaN</td>\n      <td>NaN</td>\n      <td>NaN</td>\n      <td>NaN</td>\n      <td>NaN</td>\n      <td>NaN</td>\n    </tr>\n    <tr>\n      <th>3108</th>\n      <td>55663</td>\n      <td>GB1</td>\n      <td>06/07</td>\n      <td>23</td>\n      <td>2007-01-13</td>\n      <td>4:00 PM</td>\n      <td>148</td>\n      <td>762</td>\n      <td>7</td>\n      <td>14</td>\n      <td>...</td>\n      <td>NaN</td>\n      <td>NaN</td>\n      <td>NaN</td>\n      <td>NaN</td>\n      <td>NaN</td>\n      <td>NaN</td>\n      <td>NaN</td>\n      <td>NaN</td>\n      <td>NaN</td>\n      <td>NaN</td>\n    </tr>\n    <tr>\n      <th>6081</th>\n      <td>912905</td>\n      <td>FR1</td>\n      <td>08/09</td>\n      <td>17</td>\n      <td>2008-12-06</td>\n      <td>8:00 PM</td>\n      <td>995</td>\n      <td>1041</td>\n      <td>16</td>\n      <td>1</td>\n      <td>...</td>\n      <td>NaN</td>\n      <td>NaN</td>\n      <td>NaN</td>\n      <td>NaN</td>\n      <td>NaN</td>\n      <td>NaN</td>\n      <td>NaN</td>\n      <td>NaN</td>\n      <td>NaN</td>\n      <td>NaN</td>\n    </tr>\n    <tr>\n      <th>6810</th>\n      <td>3589478</td>\n      <td>FR1</td>\n      <td>21/22</td>\n      <td>30</td>\n      <td>2022-04-03</td>\n      <td>2:00 PM</td>\n      <td>618</td>\n      <td>244</td>\n      <td>18</td>\n      <td>2</td>\n      <td>...</td>\n      <td>NaN</td>\n      <td>NaN</td>\n      <td>NaN</td>\n      <td>NaN</td>\n      <td>NaN</td>\n      <td>NaN</td>\n      <td>NaN</td>\n      <td>NaN</td>\n      <td>NaN</td>\n      <td>NaN</td>\n    </tr>\n    <tr>\n      <th>7169</th>\n      <td>57990</td>\n      <td>FR1</td>\n      <td>06/07</td>\n      <td>34</td>\n      <td>2007-04-28</td>\n      <td>8:00 PM</td>\n      <td>244</td>\n      <td>750</td>\n      <td>5</td>\n      <td>7</td>\n      <td>...</td>\n      <td>NaN</td>\n      <td>NaN</td>\n      <td>NaN</td>\n      <td>NaN</td>\n      <td>NaN</td>\n      <td>NaN</td>\n      <td>NaN</td>\n      <td>NaN</td>\n      <td>NaN</td>\n      <td>NaN</td>\n    </tr>\n    <tr>\n      <th>7498</th>\n      <td>3199502</td>\n      <td>FR1</td>\n      <td>19/20</td>\n      <td>15</td>\n      <td>2019-11-30</td>\n      <td>7:00 PM</td>\n      <td>273</td>\n      <td>618</td>\n      <td>6</td>\n      <td>5</td>\n      <td>...</td>\n      <td>NaN</td>\n      <td>NaN</td>\n      <td>NaN</td>\n      <td>NaN</td>\n      <td>NaN</td>\n      <td>NaN</td>\n      <td>NaN</td>\n      <td>NaN</td>\n      <td>NaN</td>\n      <td>NaN</td>\n    </tr>\n    <tr>\n      <th>8882</th>\n      <td>1042687</td>\n      <td>FR1</td>\n      <td>10/11</td>\n      <td>16</td>\n      <td>2010-12-05</td>\n      <td>2:00 PM</td>\n      <td>1082</td>\n      <td>1158</td>\n      <td>2</td>\n      <td>11</td>\n      <td>...</td>\n      <td>NaN</td>\n      <td>NaN</td>\n      <td>NaN</td>\n      <td>NaN</td>\n      <td>NaN</td>\n      <td>NaN</td>\n      <td>NaN</td>\n      <td>NaN</td>\n      <td>NaN</td>\n      <td>NaN</td>\n    </tr>\n    <tr>\n      <th>9829</th>\n      <td>3199501</td>\n      <td>FR1</td>\n      <td>19/20</td>\n      <td>15</td>\n      <td>2019-11-30</td>\n      <td>7:00 PM</td>\n      <td>995</td>\n      <td>415</td>\n      <td>9</td>\n      <td>19</td>\n      <td>...</td>\n      <td>NaN</td>\n      <td>NaN</td>\n      <td>NaN</td>\n      <td>NaN</td>\n      <td>NaN</td>\n      <td>NaN</td>\n      <td>NaN</td>\n      <td>NaN</td>\n      <td>NaN</td>\n      <td>NaN</td>\n    </tr>\n    <tr>\n      <th>9858</th>\n      <td>57811</td>\n      <td>FR1</td>\n      <td>06/07</td>\n      <td>16</td>\n      <td>2006-12-03</td>\n      <td>6:00 PM</td>\n      <td>583</td>\n      <td>415</td>\n      <td>13</td>\n      <td>9</td>\n      <td>...</td>\n      <td>NaN</td>\n      <td>NaN</td>\n      <td>NaN</td>\n      <td>NaN</td>\n      <td>NaN</td>\n      <td>NaN</td>\n      <td>NaN</td>\n      <td>NaN</td>\n      <td>NaN</td>\n      <td>NaN</td>\n    </tr>\n    <tr>\n      <th>10042</th>\n      <td>3195024</td>\n      <td>FR1</td>\n      <td>19/20</td>\n      <td>1</td>\n      <td>2019-08-09</td>\n      <td>11:00 PM</td>\n      <td>3911</td>\n      <td>415</td>\n      <td>14</td>\n      <td>20</td>\n      <td>...</td>\n      <td>NaN</td>\n      <td>NaN</td>\n      <td>NaN</td>\n      <td>NaN</td>\n      <td>NaN</td>\n      <td>NaN</td>\n      <td>NaN</td>\n      <td>NaN</td>\n      <td>NaN</td>\n      <td>NaN</td>\n    </tr>\n    <tr>\n      <th>10270</th>\n      <td>958642</td>\n      <td>FR1</td>\n      <td>09/10</td>\n      <td>30</td>\n      <td>2010-03-27</td>\n      <td>4:00 PM</td>\n      <td>1041</td>\n      <td>1290</td>\n      <td>6</td>\n      <td>20</td>\n      <td>...</td>\n      <td>NaN</td>\n      <td>NaN</td>\n      <td>NaN</td>\n      <td>NaN</td>\n      <td>NaN</td>\n      <td>NaN</td>\n      <td>NaN</td>\n      <td>NaN</td>\n      <td>NaN</td>\n      <td>NaN</td>\n    </tr>\n    <tr>\n      <th>11704</th>\n      <td>3199503</td>\n      <td>FR1</td>\n      <td>19/20</td>\n      <td>15</td>\n      <td>2019-11-30</td>\n      <td>7:00 PM</td>\n      <td>244</td>\n      <td>3911</td>\n      <td>2</td>\n      <td>13</td>\n      <td>...</td>\n      <td>NaN</td>\n      <td>NaN</td>\n      <td>NaN</td>\n      <td>NaN</td>\n      <td>NaN</td>\n      <td>NaN</td>\n      <td>NaN</td>\n      <td>NaN</td>\n      <td>NaN</td>\n      <td>NaN</td>\n    </tr>\n    <tr>\n      <th>12078</th>\n      <td>58548</td>\n      <td>ES1</td>\n      <td>06/07</td>\n      <td>14</td>\n      <td>2006-12-10</td>\n      <td>6:00 PM</td>\n      <td>131</td>\n      <td>681</td>\n      <td>1</td>\n      <td>19</td>\n      <td>...</td>\n      <td>NaN</td>\n      <td>NaN</td>\n      <td>NaN</td>\n      <td>NaN</td>\n      <td>NaN</td>\n      <td>NaN</td>\n      <td>NaN</td>\n      <td>NaN</td>\n      <td>NaN</td>\n      <td>NaN</td>\n    </tr>\n    <tr>\n      <th>12363</th>\n      <td>58567</td>\n      <td>ES1</td>\n      <td>06/07</td>\n      <td>16</td>\n      <td>2006-12-20</td>\n      <td>6:00 PM</td>\n      <td>131</td>\n      <td>13</td>\n      <td>1</td>\n      <td>4</td>\n      <td>...</td>\n      <td>NaN</td>\n      <td>NaN</td>\n      <td>NaN</td>\n      <td>NaN</td>\n      <td>NaN</td>\n      <td>NaN</td>\n      <td>NaN</td>\n      <td>NaN</td>\n      <td>NaN</td>\n      <td>NaN</td>\n    </tr>\n    <tr>\n      <th>12379</th>\n      <td>58536</td>\n      <td>ES1</td>\n      <td>06/07</td>\n      <td>13</td>\n      <td>2006-12-03</td>\n      <td>6:00 PM</td>\n      <td>150</td>\n      <td>13</td>\n      <td>17</td>\n      <td>5</td>\n      <td>...</td>\n      <td>NaN</td>\n      <td>NaN</td>\n      <td>NaN</td>\n      <td>NaN</td>\n      <td>NaN</td>\n      <td>NaN</td>\n      <td>NaN</td>\n      <td>NaN</td>\n      <td>NaN</td>\n      <td>NaN</td>\n    </tr>\n    <tr>\n      <th>12584</th>\n      <td>58588</td>\n      <td>ES1</td>\n      <td>06/07</td>\n      <td>18</td>\n      <td>2007-01-14</td>\n      <td>6:00 PM</td>\n      <td>714</td>\n      <td>131</td>\n      <td>10</td>\n      <td>2</td>\n      <td>...</td>\n      <td>NaN</td>\n      <td>NaN</td>\n      <td>NaN</td>\n      <td>NaN</td>\n      <td>NaN</td>\n      <td>NaN</td>\n      <td>NaN</td>\n      <td>NaN</td>\n      <td>NaN</td>\n      <td>NaN</td>\n    </tr>\n    <tr>\n      <th>12723</th>\n      <td>58539</td>\n      <td>ES1</td>\n      <td>06/07</td>\n      <td>13</td>\n      <td>2006-12-03</td>\n      <td>6:00 PM</td>\n      <td>3368</td>\n      <td>131</td>\n      <td>15</td>\n      <td>1</td>\n      <td>...</td>\n      <td>NaN</td>\n      <td>NaN</td>\n      <td>NaN</td>\n      <td>NaN</td>\n      <td>NaN</td>\n      <td>NaN</td>\n      <td>NaN</td>\n      <td>NaN</td>\n      <td>NaN</td>\n      <td>NaN</td>\n    </tr>\n    <tr>\n      <th>13143</th>\n      <td>58606</td>\n      <td>ES1</td>\n      <td>06/07</td>\n      <td>20</td>\n      <td>2007-01-28</td>\n      <td>6:00 PM</td>\n      <td>13</td>\n      <td>630</td>\n      <td>5</td>\n      <td>12</td>\n      <td>...</td>\n      <td>NaN</td>\n      <td>NaN</td>\n      <td>NaN</td>\n      <td>NaN</td>\n      <td>NaN</td>\n      <td>NaN</td>\n      <td>NaN</td>\n      <td>NaN</td>\n      <td>NaN</td>\n      <td>NaN</td>\n    </tr>\n    <tr>\n      <th>13164</th>\n      <td>58561</td>\n      <td>ES1</td>\n      <td>06/07</td>\n      <td>15</td>\n      <td>2006-12-17</td>\n      <td>6:00 PM</td>\n      <td>237</td>\n      <td>630</td>\n      <td>14</td>\n      <td>15</td>\n      <td>...</td>\n      <td>NaN</td>\n      <td>NaN</td>\n      <td>NaN</td>\n      <td>NaN</td>\n      <td>NaN</td>\n      <td>NaN</td>\n      <td>NaN</td>\n      <td>NaN</td>\n      <td>NaN</td>\n      <td>NaN</td>\n    </tr>\n    <tr>\n      <th>13407</th>\n      <td>58604</td>\n      <td>ES1</td>\n      <td>06/07</td>\n      <td>19</td>\n      <td>2007-01-21</td>\n      <td>6:00 PM</td>\n      <td>1050</td>\n      <td>368</td>\n      <td>11</td>\n      <td>1</td>\n      <td>...</td>\n      <td>NaN</td>\n      <td>NaN</td>\n      <td>NaN</td>\n      <td>NaN</td>\n      <td>NaN</td>\n      <td>NaN</td>\n      <td>NaN</td>\n      <td>NaN</td>\n      <td>NaN</td>\n      <td>NaN</td>\n    </tr>\n    <tr>\n      <th>13422</th>\n      <td>58585</td>\n      <td>ES1</td>\n      <td>06/07</td>\n      <td>17</td>\n      <td>2007-01-07</td>\n      <td>6:00 PM</td>\n      <td>142</td>\n      <td>368</td>\n      <td>6</td>\n      <td>1</td>\n      <td>...</td>\n      <td>NaN</td>\n      <td>NaN</td>\n      <td>NaN</td>\n      <td>NaN</td>\n      <td>NaN</td>\n      <td>NaN</td>\n      <td>NaN</td>\n      <td>NaN</td>\n      <td>NaN</td>\n      <td>NaN</td>\n    </tr>\n    <tr>\n      <th>13577</th>\n      <td>58566</td>\n      <td>ES1</td>\n      <td>06/07</td>\n      <td>16</td>\n      <td>2006-12-20</td>\n      <td>6:00 PM</td>\n      <td>621</td>\n      <td>142</td>\n      <td>17</td>\n      <td>5</td>\n      <td>...</td>\n      <td>NaN</td>\n      <td>NaN</td>\n      <td>NaN</td>\n      <td>NaN</td>\n      <td>NaN</td>\n      <td>NaN</td>\n      <td>NaN</td>\n      <td>NaN</td>\n      <td>NaN</td>\n      <td>NaN</td>\n    </tr>\n    <tr>\n      <th>14549</th>\n      <td>58576</td>\n      <td>ES1</td>\n      <td>06/07</td>\n      <td>17</td>\n      <td>2007-01-07</td>\n      <td>6:00 PM</td>\n      <td>13</td>\n      <td>5648</td>\n      <td>4</td>\n      <td>20</td>\n      <td>...</td>\n      <td>NaN</td>\n      <td>NaN</td>\n      <td>NaN</td>\n      <td>NaN</td>\n      <td>NaN</td>\n      <td>NaN</td>\n      <td>NaN</td>\n      <td>NaN</td>\n      <td>NaN</td>\n      <td>NaN</td>\n    </tr>\n    <tr>\n      <th>14651</th>\n      <td>58596</td>\n      <td>ES1</td>\n      <td>06/07</td>\n      <td>19</td>\n      <td>2007-01-21</td>\n      <td>6:00 PM</td>\n      <td>13</td>\n      <td>331</td>\n      <td>5</td>\n      <td>9</td>\n      <td>...</td>\n      <td>NaN</td>\n      <td>NaN</td>\n      <td>NaN</td>\n      <td>NaN</td>\n      <td>NaN</td>\n      <td>NaN</td>\n      <td>NaN</td>\n      <td>NaN</td>\n      <td>NaN</td>\n      <td>NaN</td>\n    </tr>\n    <tr>\n      <th>14703</th>\n      <td>58583</td>\n      <td>ES1</td>\n      <td>06/07</td>\n      <td>17</td>\n      <td>2007-01-07</td>\n      <td>6:00 PM</td>\n      <td>681</td>\n      <td>331</td>\n      <td>19</td>\n      <td>8</td>\n      <td>...</td>\n      <td>NaN</td>\n      <td>NaN</td>\n      <td>NaN</td>\n      <td>NaN</td>\n      <td>NaN</td>\n      <td>NaN</td>\n      <td>NaN</td>\n      <td>NaN</td>\n      <td>NaN</td>\n      <td>NaN</td>\n    </tr>\n    <tr>\n      <th>14872</th>\n      <td>58542</td>\n      <td>ES1</td>\n      <td>06/07</td>\n      <td>13</td>\n      <td>2006-12-03</td>\n      <td>6:00 PM</td>\n      <td>2867</td>\n      <td>1049</td>\n      <td>7</td>\n      <td>8</td>\n      <td>...</td>\n      <td>NaN</td>\n      <td>NaN</td>\n      <td>NaN</td>\n      <td>NaN</td>\n      <td>NaN</td>\n      <td>NaN</td>\n      <td>NaN</td>\n      <td>NaN</td>\n      <td>NaN</td>\n      <td>NaN</td>\n    </tr>\n    <tr>\n      <th>15008</th>\n      <td>58565</td>\n      <td>ES1</td>\n      <td>06/07</td>\n      <td>15</td>\n      <td>2006-12-17</td>\n      <td>6:00 PM</td>\n      <td>142</td>\n      <td>1049</td>\n      <td>4</td>\n      <td>9</td>\n      <td>...</td>\n      <td>NaN</td>\n      <td>NaN</td>\n      <td>NaN</td>\n      <td>NaN</td>\n      <td>NaN</td>\n      <td>NaN</td>\n      <td>NaN</td>\n      <td>NaN</td>\n      <td>NaN</td>\n      <td>NaN</td>\n    </tr>\n    <tr>\n      <th>15475</th>\n      <td>58554</td>\n      <td>ES1</td>\n      <td>06/07</td>\n      <td>14</td>\n      <td>2006-12-10</td>\n      <td>6:00 PM</td>\n      <td>368</td>\n      <td>418</td>\n      <td>3</td>\n      <td>2</td>\n      <td>...</td>\n      <td>NaN</td>\n      <td>NaN</td>\n      <td>NaN</td>\n      <td>NaN</td>\n      <td>NaN</td>\n      <td>NaN</td>\n      <td>NaN</td>\n      <td>NaN</td>\n      <td>NaN</td>\n      <td>NaN</td>\n    </tr>\n    <tr>\n      <th>15523</th>\n      <td>58646</td>\n      <td>ES1</td>\n      <td>06/07</td>\n      <td>24</td>\n      <td>2007-02-25</td>\n      <td>6:00 PM</td>\n      <td>13</td>\n      <td>418</td>\n      <td>5</td>\n      <td>3</td>\n      <td>...</td>\n      <td>NaN</td>\n      <td>NaN</td>\n      <td>NaN</td>\n      <td>NaN</td>\n      <td>NaN</td>\n      <td>NaN</td>\n      <td>NaN</td>\n      <td>NaN</td>\n      <td>NaN</td>\n      <td>NaN</td>\n    </tr>\n    <tr>\n      <th>15603</th>\n      <td>58614</td>\n      <td>ES1</td>\n      <td>06/07</td>\n      <td>20</td>\n      <td>2007-01-28</td>\n      <td>6:00 PM</td>\n      <td>1050</td>\n      <td>418</td>\n      <td>11</td>\n      <td>3</td>\n      <td>...</td>\n      <td>NaN</td>\n      <td>NaN</td>\n      <td>NaN</td>\n      <td>NaN</td>\n      <td>NaN</td>\n      <td>NaN</td>\n      <td>NaN</td>\n      <td>NaN</td>\n      <td>NaN</td>\n      <td>NaN</td>\n    </tr>\n    <tr>\n      <th>15751</th>\n      <td>78870</td>\n      <td>ES1</td>\n      <td>07/08</td>\n      <td>9</td>\n      <td>2007-10-28</td>\n      <td>4:00 PM</td>\n      <td>418</td>\n      <td>897</td>\n      <td>1</td>\n      <td>16</td>\n      <td>...</td>\n      <td>NaN</td>\n      <td>NaN</td>\n      <td>NaN</td>\n      <td>NaN</td>\n      <td>NaN</td>\n      <td>NaN</td>\n      <td>NaN</td>\n      <td>NaN</td>\n      <td>NaN</td>\n      <td>NaN</td>\n    </tr>\n    <tr>\n      <th>15977</th>\n      <td>58575</td>\n      <td>ES1</td>\n      <td>06/07</td>\n      <td>16</td>\n      <td>2006-12-20</td>\n      <td>6:00 PM</td>\n      <td>1049</td>\n      <td>237</td>\n      <td>6</td>\n      <td>14</td>\n      <td>...</td>\n      <td>NaN</td>\n      <td>NaN</td>\n      <td>NaN</td>\n      <td>NaN</td>\n      <td>NaN</td>\n      <td>NaN</td>\n      <td>NaN</td>\n      <td>NaN</td>\n      <td>NaN</td>\n      <td>NaN</td>\n    </tr>\n    <tr>\n      <th>16170</th>\n      <td>58595</td>\n      <td>ES1</td>\n      <td>06/07</td>\n      <td>18</td>\n      <td>2007-01-14</td>\n      <td>6:00 PM</td>\n      <td>1049</td>\n      <td>3368</td>\n      <td>4</td>\n      <td>16</td>\n      <td>...</td>\n      <td>NaN</td>\n      <td>NaN</td>\n      <td>NaN</td>\n      <td>NaN</td>\n      <td>NaN</td>\n      <td>NaN</td>\n      <td>NaN</td>\n      <td>NaN</td>\n      <td>NaN</td>\n      <td>NaN</td>\n    </tr>\n    <tr>\n      <th>16667</th>\n      <td>920352</td>\n      <td>ES1</td>\n      <td>08/09</td>\n      <td>2</td>\n      <td>2008-09-13</td>\n      <td>9:00 PM</td>\n      <td>368</td>\n      <td>2448</td>\n      <td>10</td>\n      <td>14</td>\n      <td>...</td>\n      <td>NaN</td>\n      <td>NaN</td>\n      <td>NaN</td>\n      <td>NaN</td>\n      <td>NaN</td>\n      <td>NaN</td>\n      <td>NaN</td>\n      <td>NaN</td>\n      <td>NaN</td>\n      <td>NaN</td>\n    </tr>\n    <tr>\n      <th>18196</th>\n      <td>58559</td>\n      <td>ES1</td>\n      <td>06/07</td>\n      <td>15</td>\n      <td>2006-12-17</td>\n      <td>6:00 PM</td>\n      <td>897</td>\n      <td>621</td>\n      <td>13</td>\n      <td>17</td>\n      <td>...</td>\n      <td>NaN</td>\n      <td>NaN</td>\n      <td>NaN</td>\n      <td>NaN</td>\n      <td>NaN</td>\n      <td>NaN</td>\n      <td>NaN</td>\n      <td>NaN</td>\n      <td>NaN</td>\n      <td>NaN</td>\n    </tr>\n    <tr>\n      <th>18566</th>\n      <td>1137292</td>\n      <td>IT1</td>\n      <td>11/12</td>\n      <td>22</td>\n      <td>2012-02-05</td>\n      <td>2:00 PM</td>\n      <td>12</td>\n      <td>46</td>\n      <td>6</td>\n      <td>5</td>\n      <td>...</td>\n      <td>NaN</td>\n      <td>NaN</td>\n      <td>NaN</td>\n      <td>NaN</td>\n      <td>NaN</td>\n      <td>NaN</td>\n      <td>NaN</td>\n      <td>NaN</td>\n      <td>NaN</td>\n      <td>NaN</td>\n    </tr>\n    <tr>\n      <th>19011</th>\n      <td>932411</td>\n      <td>IT1</td>\n      <td>08/09</td>\n      <td>25</td>\n      <td>2009-02-21</td>\n      <td>11:00 PM</td>\n      <td>430</td>\n      <td>862</td>\n      <td>4</td>\n      <td>19</td>\n      <td>...</td>\n      <td>NaN</td>\n      <td>NaN</td>\n      <td>NaN</td>\n      <td>NaN</td>\n      <td>NaN</td>\n      <td>NaN</td>\n      <td>NaN</td>\n      <td>NaN</td>\n      <td>NaN</td>\n      <td>NaN</td>\n    </tr>\n    <tr>\n      <th>19297</th>\n      <td>2359287</td>\n      <td>IT1</td>\n      <td>13/14</td>\n      <td>9</td>\n      <td>2013-10-26</td>\n      <td>11:00 PM</td>\n      <td>862</td>\n      <td>430</td>\n      <td>19</td>\n      <td>6</td>\n      <td>...</td>\n      <td>NaN</td>\n      <td>NaN</td>\n      <td>NaN</td>\n      <td>NaN</td>\n      <td>NaN</td>\n      <td>NaN</td>\n      <td>NaN</td>\n      <td>NaN</td>\n      <td>NaN</td>\n      <td>NaN</td>\n    </tr>\n    <tr>\n      <th>22367</th>\n      <td>2359246</td>\n      <td>IT1</td>\n      <td>13/14</td>\n      <td>5</td>\n      <td>2013-09-24</td>\n      <td>11:00 PM</td>\n      <td>862</td>\n      <td>506</td>\n      <td>14</td>\n      <td>5</td>\n      <td>...</td>\n      <td>NaN</td>\n      <td>NaN</td>\n      <td>NaN</td>\n      <td>NaN</td>\n      <td>NaN</td>\n      <td>NaN</td>\n      <td>NaN</td>\n      <td>NaN</td>\n      <td>NaN</td>\n      <td>NaN</td>\n    </tr>\n    <tr>\n      <th>22932</th>\n      <td>932268</td>\n      <td>IT1</td>\n      <td>08/09</td>\n      <td>17</td>\n      <td>2008-12-20</td>\n      <td>11:00 PM</td>\n      <td>862</td>\n      <td>252</td>\n      <td>20</td>\n      <td>6</td>\n      <td>...</td>\n      <td>NaN</td>\n      <td>NaN</td>\n      <td>NaN</td>\n      <td>NaN</td>\n      <td>NaN</td>\n      <td>NaN</td>\n      <td>NaN</td>\n      <td>NaN</td>\n      <td>NaN</td>\n      <td>NaN</td>\n    </tr>\n    <tr>\n      <th>22934</th>\n      <td>1047530</td>\n      <td>IT1</td>\n      <td>10/11</td>\n      <td>21</td>\n      <td>2011-01-23</td>\n      <td>2:00 PM</td>\n      <td>862</td>\n      <td>252</td>\n      <td>13</td>\n      <td>11</td>\n      <td>...</td>\n      <td>NaN</td>\n      <td>NaN</td>\n      <td>NaN</td>\n      <td>NaN</td>\n      <td>NaN</td>\n      <td>NaN</td>\n      <td>NaN</td>\n      <td>NaN</td>\n      <td>NaN</td>\n      <td>NaN</td>\n    </tr>\n    <tr>\n      <th>23299</th>\n      <td>2251453</td>\n      <td>IT1</td>\n      <td>12/13</td>\n      <td>21</td>\n      <td>2013-01-20</td>\n      <td>2:00 PM</td>\n      <td>5</td>\n      <td>1025</td>\n      <td>7</td>\n      <td>14</td>\n      <td>...</td>\n      <td>NaN</td>\n      <td>NaN</td>\n      <td>NaN</td>\n      <td>NaN</td>\n      <td>NaN</td>\n      <td>NaN</td>\n      <td>NaN</td>\n      <td>NaN</td>\n      <td>NaN</td>\n      <td>NaN</td>\n    </tr>\n    <tr>\n      <th>29965</th>\n      <td>959249</td>\n      <td>L1</td>\n      <td>09/10</td>\n      <td>28</td>\n      <td>2010-03-26</td>\n      <td>2:30 PM</td>\n      <td>533</td>\n      <td>60</td>\n      <td>11</td>\n      <td>17</td>\n      <td>...</td>\n      <td>NaN</td>\n      <td>NaN</td>\n      <td>NaN</td>\n      <td>NaN</td>\n      <td>NaN</td>\n      <td>NaN</td>\n      <td>NaN</td>\n      <td>NaN</td>\n      <td>NaN</td>\n      <td>NaN</td>\n    </tr>\n    <tr>\n      <th>30504</th>\n      <td>69885</td>\n      <td>L2</td>\n      <td>07/08</td>\n      <td>28</td>\n      <td>2008-04-11</td>\n      <td>5:00 PM</td>\n      <td>108</td>\n      <td>35</td>\n      <td>7</td>\n      <td>11</td>\n      <td>...</td>\n      <td>NaN</td>\n      <td>NaN</td>\n      <td>NaN</td>\n      <td>NaN</td>\n      <td>NaN</td>\n      <td>NaN</td>\n      <td>NaN</td>\n      <td>NaN</td>\n      <td>NaN</td>\n      <td>NaN</td>\n    </tr>\n    <tr>\n      <th>31617</th>\n      <td>1042507</td>\n      <td>L2</td>\n      <td>10/11</td>\n      <td>18</td>\n      <td>2011-01-18</td>\n      <td>6:00 PM</td>\n      <td>48</td>\n      <td>65</td>\n      <td>16</td>\n      <td>6</td>\n      <td>...</td>\n      <td>NaN</td>\n      <td>NaN</td>\n      <td>NaN</td>\n      <td>NaN</td>\n      <td>NaN</td>\n      <td>NaN</td>\n      <td>NaN</td>\n      <td>NaN</td>\n      <td>NaN</td>\n      <td>NaN</td>\n    </tr>\n  </tbody>\n</table>\n<p>52 rows × 190 columns</p>\n</div>"
     },
     "execution_count": 27,
     "metadata": {},
     "output_type": "execute_result"
    }
   ],
   "source": [
    "non_match = match_df_adj[match_df_adj['Date'].isna()]\n",
    "non_match"
   ],
   "metadata": {
    "collapsed": false,
    "pycharm": {
     "name": "#%%\n"
    }
   }
  },
  {
   "cell_type": "code",
   "execution_count": 28,
   "outputs": [
    {
     "ename": "NameError",
     "evalue": "name 'teams_df' is not defined",
     "output_type": "error",
     "traceback": [
      "\u001B[1;31m---------------------------------------------------------------------------\u001B[0m",
      "\u001B[1;31mNameError\u001B[0m                                 Traceback (most recent call last)",
      "Input \u001B[1;32mIn [28]\u001B[0m, in \u001B[0;36m<cell line: 1>\u001B[1;34m()\u001B[0m\n\u001B[1;32m----> 1\u001B[0m \u001B[43mteams_df\u001B[49m\n",
      "\u001B[1;31mNameError\u001B[0m: name 'teams_df' is not defined"
     ]
    }
   ],
   "source": [
    "teams_df"
   ],
   "metadata": {
    "collapsed": false,
    "pycharm": {
     "name": "#%%\n"
    }
   }
  },
  {
   "cell_type": "code",
   "execution_count": 30,
   "outputs": [
    {
     "data": {
      "text/plain": "      na_count                    name odds_team_name\n13           4      Atlético de Madrid     Ath Madrid\n862          4           Chievo Verona         Chievo\n1049         2             Valencia CF       Valencia\n995          2               FC Nantes         Nantes\n11           2              Arsenal FC        Arsenal\n131          2            FC Barcelona      Barcelona\n142          2           Real Zaragoza       Zaragoza\n148          2       Tottenham Hotspur      Tottenham\n1050         2           Villarreal CF     Villarreal\n368          2              Sevilla FC        Sevilla\n244          2     Olympique Marseille      Marseille\n681          1           Real Sociedad       Sociedad\n714          1  RCD Espanyol Barcelona        Espanol\n897          1  Deportivo de La Coruña      La Coruna\n5            1                AC Milan          Milan\n1041         1          Olympique Lyon           Lyon\n618          1        AS Saint-Étienne     St Etienne\n1071         1          Wigan Athletic          Wigan\n1082         1              LOSC Lille          Lille\n2867         1       Recreativo Huelva     Recreativo\n3368         1              Levante UD        Levante\n621          1         Athletic Bilbao     Ath Bilbao\n418          1             Real Madrid    Real Madrid\n583          1     Paris Saint-Germain       Paris SG\n533          1     TSG 1899 Hoffenheim     Hoffenheim\n430          1          ACF Fiorentina     Fiorentina\n379          1         West Ham United       West Ham\n355          1        Bolton Wanderers         Bolton\n281          1         Manchester City       Man City\n273          1        Stade Rennais FC         Rennes\n237          1            RCD Mallorca       Mallorca\n150          1     Real Betis Balompié          Betis\n108          1      SV Wehen Wiesbaden          Wehen\n48           1           Karlsruher SC      Karlsruhe\n29           1              Everton FC        Everton\n12           1                 AS Roma           Roma\n3911         1       Stade Brestois 29          Brest",
      "text/html": "<div>\n<style scoped>\n    .dataframe tbody tr th:only-of-type {\n        vertical-align: middle;\n    }\n\n    .dataframe tbody tr th {\n        vertical-align: top;\n    }\n\n    .dataframe thead th {\n        text-align: right;\n    }\n</style>\n<table border=\"1\" class=\"dataframe\">\n  <thead>\n    <tr style=\"text-align: right;\">\n      <th></th>\n      <th>na_count</th>\n      <th>name</th>\n      <th>odds_team_name</th>\n    </tr>\n  </thead>\n  <tbody>\n    <tr>\n      <th>13</th>\n      <td>4</td>\n      <td>Atlético de Madrid</td>\n      <td>Ath Madrid</td>\n    </tr>\n    <tr>\n      <th>862</th>\n      <td>4</td>\n      <td>Chievo Verona</td>\n      <td>Chievo</td>\n    </tr>\n    <tr>\n      <th>1049</th>\n      <td>2</td>\n      <td>Valencia CF</td>\n      <td>Valencia</td>\n    </tr>\n    <tr>\n      <th>995</th>\n      <td>2</td>\n      <td>FC Nantes</td>\n      <td>Nantes</td>\n    </tr>\n    <tr>\n      <th>11</th>\n      <td>2</td>\n      <td>Arsenal FC</td>\n      <td>Arsenal</td>\n    </tr>\n    <tr>\n      <th>131</th>\n      <td>2</td>\n      <td>FC Barcelona</td>\n      <td>Barcelona</td>\n    </tr>\n    <tr>\n      <th>142</th>\n      <td>2</td>\n      <td>Real Zaragoza</td>\n      <td>Zaragoza</td>\n    </tr>\n    <tr>\n      <th>148</th>\n      <td>2</td>\n      <td>Tottenham Hotspur</td>\n      <td>Tottenham</td>\n    </tr>\n    <tr>\n      <th>1050</th>\n      <td>2</td>\n      <td>Villarreal CF</td>\n      <td>Villarreal</td>\n    </tr>\n    <tr>\n      <th>368</th>\n      <td>2</td>\n      <td>Sevilla FC</td>\n      <td>Sevilla</td>\n    </tr>\n    <tr>\n      <th>244</th>\n      <td>2</td>\n      <td>Olympique Marseille</td>\n      <td>Marseille</td>\n    </tr>\n    <tr>\n      <th>681</th>\n      <td>1</td>\n      <td>Real Sociedad</td>\n      <td>Sociedad</td>\n    </tr>\n    <tr>\n      <th>714</th>\n      <td>1</td>\n      <td>RCD Espanyol Barcelona</td>\n      <td>Espanol</td>\n    </tr>\n    <tr>\n      <th>897</th>\n      <td>1</td>\n      <td>Deportivo de La Coruña</td>\n      <td>La Coruna</td>\n    </tr>\n    <tr>\n      <th>5</th>\n      <td>1</td>\n      <td>AC Milan</td>\n      <td>Milan</td>\n    </tr>\n    <tr>\n      <th>1041</th>\n      <td>1</td>\n      <td>Olympique Lyon</td>\n      <td>Lyon</td>\n    </tr>\n    <tr>\n      <th>618</th>\n      <td>1</td>\n      <td>AS Saint-Étienne</td>\n      <td>St Etienne</td>\n    </tr>\n    <tr>\n      <th>1071</th>\n      <td>1</td>\n      <td>Wigan Athletic</td>\n      <td>Wigan</td>\n    </tr>\n    <tr>\n      <th>1082</th>\n      <td>1</td>\n      <td>LOSC Lille</td>\n      <td>Lille</td>\n    </tr>\n    <tr>\n      <th>2867</th>\n      <td>1</td>\n      <td>Recreativo Huelva</td>\n      <td>Recreativo</td>\n    </tr>\n    <tr>\n      <th>3368</th>\n      <td>1</td>\n      <td>Levante UD</td>\n      <td>Levante</td>\n    </tr>\n    <tr>\n      <th>621</th>\n      <td>1</td>\n      <td>Athletic Bilbao</td>\n      <td>Ath Bilbao</td>\n    </tr>\n    <tr>\n      <th>418</th>\n      <td>1</td>\n      <td>Real Madrid</td>\n      <td>Real Madrid</td>\n    </tr>\n    <tr>\n      <th>583</th>\n      <td>1</td>\n      <td>Paris Saint-Germain</td>\n      <td>Paris SG</td>\n    </tr>\n    <tr>\n      <th>533</th>\n      <td>1</td>\n      <td>TSG 1899 Hoffenheim</td>\n      <td>Hoffenheim</td>\n    </tr>\n    <tr>\n      <th>430</th>\n      <td>1</td>\n      <td>ACF Fiorentina</td>\n      <td>Fiorentina</td>\n    </tr>\n    <tr>\n      <th>379</th>\n      <td>1</td>\n      <td>West Ham United</td>\n      <td>West Ham</td>\n    </tr>\n    <tr>\n      <th>355</th>\n      <td>1</td>\n      <td>Bolton Wanderers</td>\n      <td>Bolton</td>\n    </tr>\n    <tr>\n      <th>281</th>\n      <td>1</td>\n      <td>Manchester City</td>\n      <td>Man City</td>\n    </tr>\n    <tr>\n      <th>273</th>\n      <td>1</td>\n      <td>Stade Rennais FC</td>\n      <td>Rennes</td>\n    </tr>\n    <tr>\n      <th>237</th>\n      <td>1</td>\n      <td>RCD Mallorca</td>\n      <td>Mallorca</td>\n    </tr>\n    <tr>\n      <th>150</th>\n      <td>1</td>\n      <td>Real Betis Balompié</td>\n      <td>Betis</td>\n    </tr>\n    <tr>\n      <th>108</th>\n      <td>1</td>\n      <td>SV Wehen Wiesbaden</td>\n      <td>Wehen</td>\n    </tr>\n    <tr>\n      <th>48</th>\n      <td>1</td>\n      <td>Karlsruher SC</td>\n      <td>Karlsruhe</td>\n    </tr>\n    <tr>\n      <th>29</th>\n      <td>1</td>\n      <td>Everton FC</td>\n      <td>Everton</td>\n    </tr>\n    <tr>\n      <th>12</th>\n      <td>1</td>\n      <td>AS Roma</td>\n      <td>Roma</td>\n    </tr>\n    <tr>\n      <th>3911</th>\n      <td>1</td>\n      <td>Stade Brestois 29</td>\n      <td>Brest</td>\n    </tr>\n  </tbody>\n</table>\n</div>"
     },
     "execution_count": 30,
     "metadata": {},
     "output_type": "execute_result"
    }
   ],
   "source": [
    "col = 'home_team_id'\n",
    "teams_df = db_access.load_table(\"Team\")\n",
    "odds_teams_df = db_access.load_table('TeamOdds')\n",
    "non_match[col].value_counts().to_frame().join(teams_df.set_index('team_id')['name']).join(odds_teams_df.set_index('team_id')['odds_team_name']).sort_values(col, ascending=False).rename(columns={col: 'na_count'})"
   ],
   "metadata": {
    "collapsed": false,
    "pycharm": {
     "name": "#%%\n"
    }
   }
  },
  {
   "cell_type": "markdown",
   "source": [
    "### Neural Network Classifier"
   ],
   "metadata": {
    "collapsed": false,
    "pycharm": {
     "name": "#%% md\n"
    }
   }
  },
  {
   "cell_type": "code",
   "execution_count": 31,
   "outputs": [
    {
     "name": "stdout",
     "output_type": "stream",
     "text": [
      "Warning: Using experimental version of Neural Network.\n"
     ]
    }
   ],
   "source": [
    "from src.estimators.neural_network import NeuralNetworkClassifier\n",
    "ann = NeuralNetworkClassifier()"
   ],
   "metadata": {
    "collapsed": false,
    "pycharm": {
     "name": "#%%\n"
    }
   }
  },
  {
   "cell_type": "code",
   "execution_count": 32,
   "outputs": [
    {
     "name": "stdout",
     "output_type": "stream",
     "text": [
      "Epoch 1/10\n",
      "761/761 [==============================] - 6s 6ms/step - loss: 1.0378 - accuracy: 0.4823\n",
      "Epoch 2/10\n",
      "761/761 [==============================] - 4s 6ms/step - loss: 1.0324 - accuracy: 0.4863\n",
      "Epoch 3/10\n",
      "761/761 [==============================] - 5s 6ms/step - loss: 1.0312 - accuracy: 0.4855\n",
      "Epoch 4/10\n",
      "761/761 [==============================] - 4s 5ms/step - loss: 1.0302 - accuracy: 0.4867\n",
      "Epoch 5/10\n",
      "761/761 [==============================] - 4s 6ms/step - loss: 1.0303 - accuracy: 0.4859\n",
      "Epoch 6/10\n",
      "761/761 [==============================] - 4s 6ms/step - loss: 1.0299 - accuracy: 0.4874\n",
      "Epoch 7/10\n",
      "761/761 [==============================] - 4s 5ms/step - loss: 1.0300 - accuracy: 0.4884\n",
      "Epoch 8/10\n",
      "761/761 [==============================] - 4s 5ms/step - loss: 1.0295 - accuracy: 0.4882\n",
      "Epoch 9/10\n",
      "761/761 [==============================] - 4s 6ms/step - loss: 1.0289 - accuracy: 0.4873\n",
      "Epoch 10/10\n",
      "761/761 [==============================] - 4s 6ms/step - loss: 1.0285 - accuracy: 0.4886\n"
     ]
    }
   ],
   "source": [
    "hist = ann.fit(X_train, y_train, epochs=10)#, validation_data=(X_test, y_test), epochs=10)"
   ],
   "metadata": {
    "collapsed": false,
    "pycharm": {
     "name": "#%%\n"
    }
   }
  },
  {
   "cell_type": "code",
   "execution_count": 36,
   "outputs": [
    {
     "name": "stdout",
     "output_type": "stream",
     "text": [
      "34/34 [==============================] - 0s 3ms/step\n"
     ]
    },
    {
     "data": {
      "text/plain": "0.4762790697674419"
     },
     "execution_count": 36,
     "metadata": {},
     "output_type": "execute_result"
    }
   ],
   "source": [
    "ann.score(X_test, y_test)"
   ],
   "metadata": {
    "collapsed": false,
    "pycharm": {
     "name": "#%%\n"
    }
   }
  },
  {
   "cell_type": "code",
   "execution_count": 37,
   "outputs": [
    {
     "data": {
      "text/plain": "<AxesSubplot:>"
     },
     "execution_count": 37,
     "metadata": {},
     "output_type": "execute_result"
    },
    {
     "data": {
      "text/plain": "<Figure size 432x288 with 1 Axes>",
      "image/png": "[encoded data removed]"
     },
     "metadata": {
      "needs_background": "light"
     },
     "output_type": "display_data"
    }
   ],
   "source": [
    "pd.DataFrame(hist.history_).plot()"
   ],
   "metadata": {
    "collapsed": false,
    "pycharm": {
     "name": "#%%\n"
    }
   }
  },
  {
   "cell_type": "code",
   "execution_count": 38,
   "outputs": [
    {
     "ename": "NameError",
     "evalue": "name 'temp_cross_validate' is not defined",
     "output_type": "error",
     "traceback": [
      "\u001B[1;31m---------------------------------------------------------------------------\u001B[0m",
      "\u001B[1;31mNameError\u001B[0m                                 Traceback (most recent call last)",
      "Input \u001B[1;32mIn [38]\u001B[0m, in \u001B[0;36m<cell line: 18>\u001B[1;34m()\u001B[0m\n\u001B[0;32m     14\u001B[0m     \u001B[38;5;28;01mreturn\u001B[39;00m model\n\u001B[0;32m     16\u001B[0m ann_cust \u001B[38;5;241m=\u001B[39m KerasClassifier(build_fn\u001B[38;5;241m=\u001B[39mbuild_model, epochs\u001B[38;5;241m=\u001B[39m\u001B[38;5;241m10\u001B[39m)\n\u001B[1;32m---> 18\u001B[0m \u001B[43mtemp_cross_validate\u001B[49m(ann_cust, X_train, y_train, visualize\u001B[38;5;241m=\u001B[39m\u001B[38;5;28;01mTrue\u001B[39;00m, dates\u001B[38;5;241m=\u001B[39mtrain_dates)\n",
      "\u001B[1;31mNameError\u001B[0m: name 'temp_cross_validate' is not defined"
     ]
    }
   ],
   "source": [
    "from keras.models import Sequential\n",
    "from keras.layers import Dense\n",
    "from scikeras.wrappers import KerasClassifier\n",
    "\n",
    "def build_model():\n",
    "    # create model\n",
    "    model = Sequential()\n",
    "    model.add(Dense(10, input_dim=6, kernel_initializer='glorot_uniform', activation='relu'))\n",
    "    model.add(Dense(8, kernel_initializer='glorot_uniform', activation='relu'))\n",
    "    model.add(Dense(6, kernel_initializer='glorot_uniform', activation='relu'))\n",
    "    model.add(Dense(3, kernel_initializer='glorot_uniform', activation='softmax'))\n",
    "    # Compile model\n",
    "    model.compile(loss='sparse_categorical_crossentropy', optimizer='adam', metrics=['accuracy'])\n",
    "    return model\n",
    "\n",
    "ann_cust = KerasClassifier(build_fn=build_model, epochs=10)\n",
    "\n",
    "temp_cross_validate(ann_cust, X_train, y_train, visualize=True, dates=train_dates)"
   ],
   "metadata": {
    "collapsed": false,
    "pycharm": {
     "name": "#%%\n"
    }
   }
  },
  {
   "cell_type": "code",
   "execution_count": 39,
   "outputs": [
    {
     "name": "stdout",
     "output_type": "stream",
     "text": [
      "Epoch 1/50\n",
      "761/761 [==============================] - 5s 5ms/step - loss: 1.0544 - accuracy: 0.4646\n",
      "Epoch 2/50\n",
      "761/761 [==============================] - 4s 6ms/step - loss: 1.0373 - accuracy: 0.4845\n",
      "Epoch 3/50\n",
      "761/761 [==============================] - 3s 3ms/step - loss: 1.0357 - accuracy: 0.4839\n",
      "Epoch 4/50\n",
      "761/761 [==============================] - 5s 6ms/step - loss: 1.0341 - accuracy: 0.4857\n",
      "Epoch 5/50\n",
      "761/761 [==============================] - 4s 6ms/step - loss: 1.0332 - accuracy: 0.4854\n",
      "Epoch 6/50\n",
      "761/761 [==============================] - 4s 6ms/step - loss: 1.0309 - accuracy: 0.4850\n",
      "Epoch 7/50\n",
      "761/761 [==============================] - 4s 6ms/step - loss: 1.0294 - accuracy: 0.4865\n",
      "Epoch 8/50\n",
      "761/761 [==============================] - 3s 4ms/step - loss: 1.0291 - accuracy: 0.4868\n",
      "Epoch 9/50\n",
      "761/761 [==============================] - 4s 6ms/step - loss: 1.0281 - accuracy: 0.4881\n",
      "Epoch 10/50\n",
      "761/761 [==============================] - 4s 5ms/step - loss: 1.0285 - accuracy: 0.4879\n",
      "Epoch 11/50\n",
      "761/761 [==============================] - 4s 5ms/step - loss: 1.0281 - accuracy: 0.4862\n",
      "Epoch 12/50\n",
      "761/761 [==============================] - 4s 5ms/step - loss: 1.0280 - accuracy: 0.4881\n",
      "Epoch 13/50\n",
      "761/761 [==============================] - 4s 5ms/step - loss: 1.0279 - accuracy: 0.4875\n",
      "Epoch 14/50\n",
      "761/761 [==============================] - 4s 5ms/step - loss: 1.0277 - accuracy: 0.4876\n",
      "Epoch 15/50\n",
      "761/761 [==============================] - 4s 5ms/step - loss: 1.0277 - accuracy: 0.4866\n",
      "Epoch 16/50\n",
      "761/761 [==============================] - 4s 6ms/step - loss: 1.0277 - accuracy: 0.4872\n",
      "Epoch 17/50\n",
      "761/761 [==============================] - 3s 4ms/step - loss: 1.0273 - accuracy: 0.4890\n",
      "Epoch 18/50\n",
      "761/761 [==============================] - 4s 6ms/step - loss: 1.0273 - accuracy: 0.4872\n",
      "Epoch 19/50\n",
      "761/761 [==============================] - 2s 3ms/step - loss: 1.0272 - accuracy: 0.4876\n",
      "Epoch 20/50\n",
      "761/761 [==============================] - 3s 4ms/step - loss: 1.0272 - accuracy: 0.4898\n",
      "Epoch 21/50\n",
      "761/761 [==============================] - 4s 5ms/step - loss: 1.0273 - accuracy: 0.4879\n",
      "Epoch 22/50\n",
      "761/761 [==============================] - 3s 4ms/step - loss: 1.0272 - accuracy: 0.4882\n",
      "Epoch 23/50\n",
      "761/761 [==============================] - 3s 4ms/step - loss: 1.0272 - accuracy: 0.4881\n",
      "Epoch 24/50\n",
      "761/761 [==============================] - 4s 5ms/step - loss: 1.0270 - accuracy: 0.4890\n",
      "Epoch 25/50\n",
      "761/761 [==============================] - 4s 5ms/step - loss: 1.0269 - accuracy: 0.4890\n",
      "Epoch 26/50\n",
      "761/761 [==============================] - 4s 5ms/step - loss: 1.0269 - accuracy: 0.4893\n",
      "Epoch 27/50\n",
      "761/761 [==============================] - 4s 5ms/step - loss: 1.0267 - accuracy: 0.4888\n",
      "Epoch 28/50\n",
      "761/761 [==============================] - 4s 5ms/step - loss: 1.0268 - accuracy: 0.4886\n",
      "Epoch 29/50\n",
      "761/761 [==============================] - 3s 4ms/step - loss: 1.0268 - accuracy: 0.4888\n",
      "Epoch 30/50\n",
      "761/761 [==============================] - 3s 4ms/step - loss: 1.0268 - accuracy: 0.4891\n",
      "Epoch 31/50\n",
      "761/761 [==============================] - 3s 4ms/step - loss: 1.0268 - accuracy: 0.4900\n",
      "Epoch 32/50\n",
      "761/761 [==============================] - 3s 5ms/step - loss: 1.0268 - accuracy: 0.4882\n",
      "Epoch 33/50\n",
      "761/761 [==============================] - 3s 4ms/step - loss: 1.0266 - accuracy: 0.4903\n",
      "Epoch 34/50\n",
      "761/761 [==============================] - 4s 5ms/step - loss: 1.0265 - accuracy: 0.4889\n",
      "Epoch 35/50\n",
      "761/761 [==============================] - 4s 6ms/step - loss: 1.0264 - accuracy: 0.4889\n",
      "Epoch 36/50\n",
      "761/761 [==============================] - 4s 5ms/step - loss: 1.0265 - accuracy: 0.4888\n",
      "Epoch 37/50\n",
      "761/761 [==============================] - 3s 4ms/step - loss: 1.0265 - accuracy: 0.4902\n",
      "Epoch 38/50\n",
      "761/761 [==============================] - 3s 4ms/step - loss: 1.0263 - accuracy: 0.4885\n",
      "Epoch 39/50\n",
      "761/761 [==============================] - 3s 4ms/step - loss: 1.0265 - accuracy: 0.4886\n",
      "Epoch 40/50\n",
      "761/761 [==============================] - 3s 3ms/step - loss: 1.0265 - accuracy: 0.4889\n",
      "Epoch 41/50\n",
      "761/761 [==============================] - 3s 4ms/step - loss: 1.0265 - accuracy: 0.4891\n",
      "Epoch 42/50\n",
      "761/761 [==============================] - 3s 4ms/step - loss: 1.0265 - accuracy: 0.4893\n",
      "Epoch 43/50\n",
      "761/761 [==============================] - 2s 3ms/step - loss: 1.0264 - accuracy: 0.4892\n",
      "Epoch 44/50\n",
      "761/761 [==============================] - 2s 3ms/step - loss: 1.0261 - accuracy: 0.4895\n",
      "Epoch 45/50\n",
      "761/761 [==============================] - 2s 3ms/step - loss: 1.0261 - accuracy: 0.4885\n",
      "Epoch 46/50\n",
      "761/761 [==============================] - 2s 3ms/step - loss: 1.0260 - accuracy: 0.4904\n",
      "Epoch 47/50\n",
      "761/761 [==============================] - 2s 3ms/step - loss: 1.0264 - accuracy: 0.4889\n",
      "Epoch 48/50\n",
      "761/761 [==============================] - 2s 3ms/step - loss: 1.0263 - accuracy: 0.4885\n",
      "Epoch 49/50\n",
      "761/761 [==============================] - 3s 4ms/step - loss: 1.0261 - accuracy: 0.4897\n",
      "Epoch 50/50\n",
      "761/761 [==============================] - 4s 6ms/step - loss: 1.0261 - accuracy: 0.4909\n",
      "34/34 [==============================] - 0s 2ms/step\n"
     ]
    },
    {
     "data": {
      "text/plain": "0.48186046511627906"
     },
     "execution_count": 39,
     "metadata": {},
     "output_type": "execute_result"
    }
   ],
   "source": [
    "hist = ann_cust.fit(X_train, y_train, epochs=50)\n",
    "ann_cust.score(X_test, y_test)"
   ],
   "metadata": {
    "collapsed": false,
    "pycharm": {
     "name": "#%%\n"
    }
   }
  },
  {
   "cell_type": "code",
   "execution_count": null,
   "outputs": [],
   "source": [
    "pd.DataFrame(hist.history_).plot()"
   ],
   "metadata": {
    "collapsed": false,
    "pycharm": {
     "name": "#%%\n"
    }
   }
  },
  {
   "cell_type": "code",
   "execution_count": null,
   "outputs": [],
   "source": [
    "compare_estimators([ann_cust], X_train, y_train, match_df, bookmaker_pred)"
   ],
   "metadata": {
    "collapsed": false,
    "pycharm": {
     "name": "#%%\n"
    }
   }
  },
  {
   "cell_type": "code",
   "execution_count": null,
   "outputs": [],
   "source": [],
   "metadata": {
    "collapsed": false,
    "pycharm": {
     "name": "#%%\n"
    }
   }
  }
 ],
 "metadata": {
  "kernelspec": {
   "display_name": "Python 3 (ipykernel)",
   "language": "python",
   "name": "python3"
  },
  "language_info": {
   "codemirror_mode": {
    "name": "ipython",
    "version": 3
   },
   "file_extension": ".py",
   "mimetype": "text/x-python",
   "name": "python",
   "nbconvert_exporter": "python",
   "pygments_lexer": "ipython3",
   "version": "3.10.3"
  },
  "vscode": {
   "interpreter": {
    "hash": "c6d9e1fb05c399ffec1eb8b729e7fec5148eaf5ab6ec2bf5803d3cb268cd052f"
   }
  }
 },
 "nbformat": 4,
 "nbformat_minor": 4
}